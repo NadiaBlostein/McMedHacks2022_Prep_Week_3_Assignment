{
  "cells": [
    {
      "cell_type": "markdown",
      "metadata": {
        "id": "dApheqXqV-Tf"
      },
      "source": [
        "# Data preprocessing: more art than science?"
      ]
    },
    {
      "cell_type": "markdown",
      "metadata": {
        "id": "0-R_4TaoV-Th"
      },
      "source": [
        "## Contents of this notebook:\n",
        "<ol>\n",
        "<li>Load and examine your data</li>\n",
        "<li>Merging two dataframes</li>\n",
        "<li>Removing features that you do not need</li>\n",
        "<li>Making your data machine-readable</li>\n",
        "<li>Handling not available (NA) and inf data</li>\n",
        "<li>Removing columns with a standard deviation of 0</li>\n",
        "<li>Feature scaling</li>\n",
        "<li>Data visualization</li>\n",
        "<li>Loading local files into Google Colab</li>\n",
        "<li>Mini assignment: data visualization</li>\n",
        "</ol>"
      ]
    },
    {
      "cell_type": "markdown",
      "source": [
        "# Setup\n",
        "Fetch the dataset that you'll be working with throughout this assignment.*italicized text*\\\\\n"
      ],
      "metadata": {
        "id": "-JrpQkXhYLKm"
      }
    },
    {
      "cell_type": "code",
      "source": [
        "!git clone https://github.com/NadiaBlostein/McMedHacks2022_Prep_Week_3_Assignment.git"
      ],
      "metadata": {
        "colab": {
          "base_uri": "https://localhost:8080/"
        },
        "id": "3PiZxGN8YY7t",
        "outputId": "8ecce758-f98f-42f0-d2d6-8532289301dd",
        "collapsed": true
      },
      "execution_count": 76,
      "outputs": [
        {
          "output_type": "stream",
          "name": "stdout",
          "text": [
            "Cloning into 'McMedHacks2022_Prep_Week_3_Assignment'...\n",
            "remote: Enumerating objects: 34, done.\u001b[K\n",
            "remote: Counting objects: 100% (34/34), done.\u001b[K\n",
            "remote: Compressing objects: 100% (31/31), done.\u001b[K\n",
            "remote: Total 34 (delta 4), reused 27 (delta 1), pack-reused 0\u001b[K\n",
            "Unpacking objects: 100% (34/34), done.\n"
          ]
        }
      ]
    },
    {
      "cell_type": "markdown",
      "source": [
        "Examine your directory structure with the `ls` command. To invoke this command from a jupyter notebook, the `ls` command should be preceded with `!`."
      ],
      "metadata": {
        "id": "1L4WX4C_Synu"
      }
    },
    {
      "cell_type": "code",
      "source": [
        "!ls"
      ],
      "metadata": {
        "colab": {
          "base_uri": "https://localhost:8080/"
        },
        "id": "-1foEjAGSguZ",
        "outputId": "6b67ad3f-044c-4487-b697-699d110eedd1"
      },
      "execution_count": 77,
      "outputs": [
        {
          "output_type": "stream",
          "name": "stdout",
          "text": [
            "HCP_2D_slices_MRI_data\tMcMedHacks2022_Prep_Week_3_Assignment\n",
            "HCP_csv_data\t\tREADME.md\n"
          ]
        }
      ]
    },
    {
      "cell_type": "markdown",
      "source": [
        "Change the working directory of the notebook to within the folder `McMedHacks2022_Prep_Week_3_Assignment`."
      ],
      "metadata": {
        "id": "dVQjjmXWSHvo"
      }
    },
    {
      "cell_type": "code",
      "source": [
        "%cd McMedHacks2022_Prep_Week_3_Assignment \n",
        "!ls"
      ],
      "metadata": {
        "colab": {
          "base_uri": "https://localhost:8080/"
        },
        "id": "qW23_nXkZRKn",
        "outputId": "a29cee2d-388d-4c59-816d-da40d9391820"
      },
      "execution_count": 78,
      "outputs": [
        {
          "output_type": "stream",
          "name": "stdout",
          "text": [
            "/content/McMedHacks2022_Prep_Week_3_Assignment/McMedHacks2022_Prep_Week_3_Assignment/McMedHacks2022_Prep_Week_3_Assignment\n",
            "HCP_2D_slices_MRI_data\tHCP_csv_data  README.md\n"
          ]
        }
      ]
    },
    {
      "cell_type": "markdown",
      "source": [
        "In this assignment we will be working with `.png` files contained in the `HCP_2D_slices_MRI_data` folder and `.csv` files within the `HCP_csv_data` folder."
      ],
      "metadata": {
        "id": "nYL3sxnFSyUV"
      }
    },
    {
      "cell_type": "code",
      "source": [
        "!ls HCP_2D_slices_MRI_data"
      ],
      "metadata": {
        "colab": {
          "base_uri": "https://localhost:8080/"
        },
        "id": "_KmjJboZTW1Z",
        "outputId": "34198337-b588-4aeb-f5a8-9820af9297a9"
      },
      "execution_count": 79,
      "outputs": [
        {
          "output_type": "stream",
          "name": "stdout",
          "text": [
            " HCP_102109_T1w_acpc_dc_restore_brain_t1_axial.png\n",
            " HCP_102109_T1w_acpc_dc_restore_brain_t1_coronal.png\n",
            " HCP_102109_T1w_acpc_dc_restore_brain_t1_sagittal.png\n",
            " HCP_210112_T1w_acpc_dc_restore_brain_t1_axial.png\n",
            " HCP_210112_T1w_acpc_dc_restore_brain_t1_coronal.png\n",
            " HCP_210112_T1w_acpc_dc_restore_brain_t1_sagittal.png\n",
            "' HCP_552241_T1w_acpc_dc_restore_brain_t1_axial.png'\n",
            "' HCP_552241_T1w_acpc_dc_restore_brain_t1_coronal.png'\n",
            "' HCP_552241_T1w_acpc_dc_restore_brain_t1_sagittal.png'\n",
            " HCP_615441_T1w_acpc_dc_restore_brain_t1_axial.png\n",
            " HCP_615441_T1w_acpc_dc_restore_brain_t1_coronal.png\n",
            " HCP_615441_T1w_acpc_dc_restore_brain_t1_sagittal.png\n",
            " HCP_995174_T1w_acpc_dc_restore_brain_t1_axial.png\n",
            " HCP_995174_T1w_acpc_dc_restore_brain_t1_coronal.png\n",
            " HCP_995174_T1w_acpc_dc_restore_brain_t1_sagittal.png\n"
          ]
        }
      ]
    },
    {
      "cell_type": "code",
      "source": [
        "!ls HCP_csv_data "
      ],
      "metadata": {
        "colab": {
          "base_uri": "https://localhost:8080/"
        },
        "id": "vMJ-aUYRTZvo",
        "outputId": "b163ddbe-7fb2-4527-f980-521350901f50"
      },
      "execution_count": 80,
      "outputs": [
        {
          "output_type": "stream",
          "name": "stdout",
          "text": [
            "HCP_volumes.csv  unrestricted_HCP_behavioral.csv\n"
          ]
        }
      ]
    },
    {
      "cell_type": "markdown",
      "metadata": {
        "id": "tG2oM0BjV-Ti"
      },
      "source": [
        "## 1. Load and examine your data"
      ]
    },
    {
      "cell_type": "markdown",
      "metadata": {
        "id": "-uMQIjPJV-Tj"
      },
      "source": [
        "### Preliminary examination of your data"
      ]
    },
    {
      "cell_type": "code",
      "execution_count": 81,
      "metadata": {
        "scrolled": false,
        "id": "lkzkrh-oV-Tj"
      },
      "outputs": [],
      "source": [
        "import pandas as pd\n",
        "import numpy as np\n",
        "\n",
        "df = pd.read_csv(\"HCP_csv_data/unrestricted_HCP_behavioral.csv\")"
      ]
    },
    {
      "cell_type": "markdown",
      "metadata": {
        "id": "PVkqozdRV-Tk"
      },
      "source": [
        "**Question 1:** How many subjects (rows) and features (columns) do you have?"
      ]
    },
    {
      "cell_type": "code",
      "execution_count": 82,
      "metadata": {
        "id": "eXqY0np7V-Tk",
        "colab": {
          "base_uri": "https://localhost:8080/"
        },
        "outputId": "8d75037c-8039-4e6e-924a-61e67f9f0dbb",
        "collapsed": true
      },
      "outputs": [
        {
          "output_type": "stream",
          "name": "stdout",
          "text": [
            "Num subjects: 1206\n",
            "Num features: 499\n"
          ]
        }
      ],
      "source": [
        "#@title\n",
        "print(f\"Num subjects: {df.shape[0]}\")\n",
        "print(f\"Num features: {df.shape[1]}\")"
      ]
    },
    {
      "cell_type": "code",
      "execution_count": 83,
      "metadata": {
        "id": "Nq8-bJDvV-Tm",
        "colab": {
          "base_uri": "https://localhost:8080/"
        },
        "outputId": "adcb910a-5a9b-46ce-a99e-1f8db8fe213f"
      },
      "outputs": [
        {
          "output_type": "execute_result",
          "data": {
            "text/plain": [
              "Index(['Subject', 'Gender', 'Age', 'MMSE_Score', 'PSQI_Score', 'PSQI_Comp1',\n",
              "       'PSQI_Comp2', 'PSQI_Comp3', 'PSQI_Comp4', 'PSQI_Comp5',\n",
              "       ...\n",
              "       'Noise_Comp', 'Odor_Unadj', 'Odor_AgeAdj', 'PainIntens_RawScore',\n",
              "       'PainInterf_Tscore', 'Taste_Unadj', 'Taste_AgeAdj', 'Mars_Log_Score',\n",
              "       'Mars_Errs', 'Mars_Final'],\n",
              "      dtype='object', length=499)"
            ]
          },
          "metadata": {},
          "execution_count": 83
        }
      ],
      "source": [
        "df.columns"
      ]
    },
    {
      "cell_type": "code",
      "execution_count": 84,
      "metadata": {
        "id": "VnKocnwxV-Tn",
        "colab": {
          "base_uri": "https://localhost:8080/"
        },
        "outputId": "c6c51a33-4b2e-4a83-93aa-f46efffb8aa2"
      },
      "outputs": [
        {
          "output_type": "execute_result",
          "data": {
            "text/plain": [
              "array(['M', 'F'], dtype=object)"
            ]
          },
          "metadata": {},
          "execution_count": 84
        }
      ],
      "source": [
        "df['Gender'].unique()"
      ]
    },
    {
      "cell_type": "markdown",
      "source": [
        "**Question 2:** How many males and how many females in this dataset?"
      ],
      "metadata": {
        "id": "_d4xPY2Wi5j0"
      }
    },
    {
      "cell_type": "code",
      "execution_count": 85,
      "metadata": {
        "id": "RvyFdiVgV-Tn",
        "colab": {
          "base_uri": "https://localhost:8080/"
        },
        "outputId": "5246197d-8622-47c3-e856-086acbf2de13",
        "collapsed": true
      },
      "outputs": [
        {
          "output_type": "execute_result",
          "data": {
            "text/plain": [
              "F    656\n",
              "M    550\n",
              "Name: Gender, dtype: int64"
            ]
          },
          "metadata": {},
          "execution_count": 85
        }
      ],
      "source": [
        "#@title\n",
        "df['Gender'].value_counts()"
      ]
    },
    {
      "cell_type": "markdown",
      "source": [
        "**Question 3:** Display only the rows associated with female subjects."
      ],
      "metadata": {
        "id": "_KU-J4PhjZWd"
      }
    },
    {
      "cell_type": "code",
      "execution_count": 86,
      "metadata": {
        "id": "W3W5g75VV-Tn",
        "colab": {
          "base_uri": "https://localhost:8080/",
          "height": 653
        },
        "outputId": "532db3a8-c463-428a-cfc7-dff5b8256c47",
        "cellView": "form",
        "collapsed": true
      },
      "outputs": [
        {
          "output_type": "execute_result",
          "data": {
            "text/plain": [
              "      Subject Gender    Age  MMSE_Score  PSQI_Score  PSQI_Comp1  PSQI_Comp2  \\\n",
              "2      100307      F  26-30          29           4           1           0   \n",
              "5      101006      F  31-35          28           2           1           1   \n",
              "7      101208      F  31-35          30           6           1           2   \n",
              "10     101612      F  26-30          28           4           1           1   \n",
              "11     101915      F  31-35          29           6           1           1   \n",
              "...       ...    ...    ...         ...         ...         ...         ...   \n",
              "1194   984472      F  26-30          30           5           1           1   \n",
              "1196   987983      F  26-30          30           3           1           1   \n",
              "1200   992673      F  31-35          30           0           0           0   \n",
              "1202   993675      F  26-30          30           4           1           1   \n",
              "1205   996782      F  26-30          30           4           1           1   \n",
              "\n",
              "      PSQI_Comp3  PSQI_Comp4  PSQI_Comp5  ...  Noise_Comp  Odor_Unadj  \\\n",
              "2              1           0           2  ...         3.6      101.12   \n",
              "5              0           0           0  ...         6.0      122.25   \n",
              "7              0           0           2  ...         4.4      101.12   \n",
              "10             0           0           1  ...         4.4      122.25   \n",
              "11             1           1           1  ...         4.4       96.87   \n",
              "...          ...         ...         ...  ...         ...         ...   \n",
              "1194           1           0           1  ...         2.8      122.25   \n",
              "1196           0           0           1  ...         5.2      108.79   \n",
              "1200           0           0           0  ...         3.6      122.25   \n",
              "1202           1           0           1  ...         0.4      122.25   \n",
              "1205           1           0           1  ...         6.0      108.79   \n",
              "\n",
              "     Odor_AgeAdj  PainIntens_RawScore PainInterf_Tscore  Taste_Unadj  \\\n",
              "2          86.45                  0.0              38.6        71.69   \n",
              "5         111.41                  0.0              38.6       123.80   \n",
              "7          87.11                  1.0              50.1       105.57   \n",
              "10        111.41                  2.0              48.7        97.26   \n",
              "11         77.61                  0.0              38.6       112.11   \n",
              "...          ...                  ...               ...          ...   \n",
              "1194      110.45                  0.0              38.6       108.73   \n",
              "1196       97.19                  5.0              56.4        88.02   \n",
              "1200      111.41                  1.0              38.6       101.63   \n",
              "1202      110.45                  0.0              38.6        84.07   \n",
              "1205       97.19                  0.0              38.6        75.43   \n",
              "\n",
              "      Taste_AgeAdj  Mars_Log_Score  Mars_Errs  Mars_Final  \n",
              "2            71.76            1.76        0.0        1.76  \n",
              "5           123.31            1.80        0.0        1.80  \n",
              "7           102.32            1.92        0.0        1.92  \n",
              "10           96.41            1.84        0.0        1.84  \n",
              "11          111.70            1.84        1.0        1.80  \n",
              "...            ...             ...        ...         ...  \n",
              "1194        108.00            1.76        0.0        1.76  \n",
              "1196         87.70            1.88        0.0        1.88  \n",
              "1200         99.26            1.80        0.0        1.80  \n",
              "1202         84.25            1.80        1.0        1.76  \n",
              "1205         73.72            1.84        0.0        1.84  \n",
              "\n",
              "[656 rows x 499 columns]"
            ],
            "text/html": [
              "\n",
              "  <div id=\"df-616f8d84-a67f-472a-b946-fdd382ebb5f0\">\n",
              "    <div class=\"colab-df-container\">\n",
              "      <div>\n",
              "<style scoped>\n",
              "    .dataframe tbody tr th:only-of-type {\n",
              "        vertical-align: middle;\n",
              "    }\n",
              "\n",
              "    .dataframe tbody tr th {\n",
              "        vertical-align: top;\n",
              "    }\n",
              "\n",
              "    .dataframe thead th {\n",
              "        text-align: right;\n",
              "    }\n",
              "</style>\n",
              "<table border=\"1\" class=\"dataframe\">\n",
              "  <thead>\n",
              "    <tr style=\"text-align: right;\">\n",
              "      <th></th>\n",
              "      <th>Subject</th>\n",
              "      <th>Gender</th>\n",
              "      <th>Age</th>\n",
              "      <th>MMSE_Score</th>\n",
              "      <th>PSQI_Score</th>\n",
              "      <th>PSQI_Comp1</th>\n",
              "      <th>PSQI_Comp2</th>\n",
              "      <th>PSQI_Comp3</th>\n",
              "      <th>PSQI_Comp4</th>\n",
              "      <th>PSQI_Comp5</th>\n",
              "      <th>...</th>\n",
              "      <th>Noise_Comp</th>\n",
              "      <th>Odor_Unadj</th>\n",
              "      <th>Odor_AgeAdj</th>\n",
              "      <th>PainIntens_RawScore</th>\n",
              "      <th>PainInterf_Tscore</th>\n",
              "      <th>Taste_Unadj</th>\n",
              "      <th>Taste_AgeAdj</th>\n",
              "      <th>Mars_Log_Score</th>\n",
              "      <th>Mars_Errs</th>\n",
              "      <th>Mars_Final</th>\n",
              "    </tr>\n",
              "  </thead>\n",
              "  <tbody>\n",
              "    <tr>\n",
              "      <th>2</th>\n",
              "      <td>100307</td>\n",
              "      <td>F</td>\n",
              "      <td>26-30</td>\n",
              "      <td>29</td>\n",
              "      <td>4</td>\n",
              "      <td>1</td>\n",
              "      <td>0</td>\n",
              "      <td>1</td>\n",
              "      <td>0</td>\n",
              "      <td>2</td>\n",
              "      <td>...</td>\n",
              "      <td>3.6</td>\n",
              "      <td>101.12</td>\n",
              "      <td>86.45</td>\n",
              "      <td>0.0</td>\n",
              "      <td>38.6</td>\n",
              "      <td>71.69</td>\n",
              "      <td>71.76</td>\n",
              "      <td>1.76</td>\n",
              "      <td>0.0</td>\n",
              "      <td>1.76</td>\n",
              "    </tr>\n",
              "    <tr>\n",
              "      <th>5</th>\n",
              "      <td>101006</td>\n",
              "      <td>F</td>\n",
              "      <td>31-35</td>\n",
              "      <td>28</td>\n",
              "      <td>2</td>\n",
              "      <td>1</td>\n",
              "      <td>1</td>\n",
              "      <td>0</td>\n",
              "      <td>0</td>\n",
              "      <td>0</td>\n",
              "      <td>...</td>\n",
              "      <td>6.0</td>\n",
              "      <td>122.25</td>\n",
              "      <td>111.41</td>\n",
              "      <td>0.0</td>\n",
              "      <td>38.6</td>\n",
              "      <td>123.80</td>\n",
              "      <td>123.31</td>\n",
              "      <td>1.80</td>\n",
              "      <td>0.0</td>\n",
              "      <td>1.80</td>\n",
              "    </tr>\n",
              "    <tr>\n",
              "      <th>7</th>\n",
              "      <td>101208</td>\n",
              "      <td>F</td>\n",
              "      <td>31-35</td>\n",
              "      <td>30</td>\n",
              "      <td>6</td>\n",
              "      <td>1</td>\n",
              "      <td>2</td>\n",
              "      <td>0</td>\n",
              "      <td>0</td>\n",
              "      <td>2</td>\n",
              "      <td>...</td>\n",
              "      <td>4.4</td>\n",
              "      <td>101.12</td>\n",
              "      <td>87.11</td>\n",
              "      <td>1.0</td>\n",
              "      <td>50.1</td>\n",
              "      <td>105.57</td>\n",
              "      <td>102.32</td>\n",
              "      <td>1.92</td>\n",
              "      <td>0.0</td>\n",
              "      <td>1.92</td>\n",
              "    </tr>\n",
              "    <tr>\n",
              "      <th>10</th>\n",
              "      <td>101612</td>\n",
              "      <td>F</td>\n",
              "      <td>26-30</td>\n",
              "      <td>28</td>\n",
              "      <td>4</td>\n",
              "      <td>1</td>\n",
              "      <td>1</td>\n",
              "      <td>0</td>\n",
              "      <td>0</td>\n",
              "      <td>1</td>\n",
              "      <td>...</td>\n",
              "      <td>4.4</td>\n",
              "      <td>122.25</td>\n",
              "      <td>111.41</td>\n",
              "      <td>2.0</td>\n",
              "      <td>48.7</td>\n",
              "      <td>97.26</td>\n",
              "      <td>96.41</td>\n",
              "      <td>1.84</td>\n",
              "      <td>0.0</td>\n",
              "      <td>1.84</td>\n",
              "    </tr>\n",
              "    <tr>\n",
              "      <th>11</th>\n",
              "      <td>101915</td>\n",
              "      <td>F</td>\n",
              "      <td>31-35</td>\n",
              "      <td>29</td>\n",
              "      <td>6</td>\n",
              "      <td>1</td>\n",
              "      <td>1</td>\n",
              "      <td>1</td>\n",
              "      <td>1</td>\n",
              "      <td>1</td>\n",
              "      <td>...</td>\n",
              "      <td>4.4</td>\n",
              "      <td>96.87</td>\n",
              "      <td>77.61</td>\n",
              "      <td>0.0</td>\n",
              "      <td>38.6</td>\n",
              "      <td>112.11</td>\n",
              "      <td>111.70</td>\n",
              "      <td>1.84</td>\n",
              "      <td>1.0</td>\n",
              "      <td>1.80</td>\n",
              "    </tr>\n",
              "    <tr>\n",
              "      <th>...</th>\n",
              "      <td>...</td>\n",
              "      <td>...</td>\n",
              "      <td>...</td>\n",
              "      <td>...</td>\n",
              "      <td>...</td>\n",
              "      <td>...</td>\n",
              "      <td>...</td>\n",
              "      <td>...</td>\n",
              "      <td>...</td>\n",
              "      <td>...</td>\n",
              "      <td>...</td>\n",
              "      <td>...</td>\n",
              "      <td>...</td>\n",
              "      <td>...</td>\n",
              "      <td>...</td>\n",
              "      <td>...</td>\n",
              "      <td>...</td>\n",
              "      <td>...</td>\n",
              "      <td>...</td>\n",
              "      <td>...</td>\n",
              "      <td>...</td>\n",
              "    </tr>\n",
              "    <tr>\n",
              "      <th>1194</th>\n",
              "      <td>984472</td>\n",
              "      <td>F</td>\n",
              "      <td>26-30</td>\n",
              "      <td>30</td>\n",
              "      <td>5</td>\n",
              "      <td>1</td>\n",
              "      <td>1</td>\n",
              "      <td>1</td>\n",
              "      <td>0</td>\n",
              "      <td>1</td>\n",
              "      <td>...</td>\n",
              "      <td>2.8</td>\n",
              "      <td>122.25</td>\n",
              "      <td>110.45</td>\n",
              "      <td>0.0</td>\n",
              "      <td>38.6</td>\n",
              "      <td>108.73</td>\n",
              "      <td>108.00</td>\n",
              "      <td>1.76</td>\n",
              "      <td>0.0</td>\n",
              "      <td>1.76</td>\n",
              "    </tr>\n",
              "    <tr>\n",
              "      <th>1196</th>\n",
              "      <td>987983</td>\n",
              "      <td>F</td>\n",
              "      <td>26-30</td>\n",
              "      <td>30</td>\n",
              "      <td>3</td>\n",
              "      <td>1</td>\n",
              "      <td>1</td>\n",
              "      <td>0</td>\n",
              "      <td>0</td>\n",
              "      <td>1</td>\n",
              "      <td>...</td>\n",
              "      <td>5.2</td>\n",
              "      <td>108.79</td>\n",
              "      <td>97.19</td>\n",
              "      <td>5.0</td>\n",
              "      <td>56.4</td>\n",
              "      <td>88.02</td>\n",
              "      <td>87.70</td>\n",
              "      <td>1.88</td>\n",
              "      <td>0.0</td>\n",
              "      <td>1.88</td>\n",
              "    </tr>\n",
              "    <tr>\n",
              "      <th>1200</th>\n",
              "      <td>992673</td>\n",
              "      <td>F</td>\n",
              "      <td>31-35</td>\n",
              "      <td>30</td>\n",
              "      <td>0</td>\n",
              "      <td>0</td>\n",
              "      <td>0</td>\n",
              "      <td>0</td>\n",
              "      <td>0</td>\n",
              "      <td>0</td>\n",
              "      <td>...</td>\n",
              "      <td>3.6</td>\n",
              "      <td>122.25</td>\n",
              "      <td>111.41</td>\n",
              "      <td>1.0</td>\n",
              "      <td>38.6</td>\n",
              "      <td>101.63</td>\n",
              "      <td>99.26</td>\n",
              "      <td>1.80</td>\n",
              "      <td>0.0</td>\n",
              "      <td>1.80</td>\n",
              "    </tr>\n",
              "    <tr>\n",
              "      <th>1202</th>\n",
              "      <td>993675</td>\n",
              "      <td>F</td>\n",
              "      <td>26-30</td>\n",
              "      <td>30</td>\n",
              "      <td>4</td>\n",
              "      <td>1</td>\n",
              "      <td>1</td>\n",
              "      <td>1</td>\n",
              "      <td>0</td>\n",
              "      <td>1</td>\n",
              "      <td>...</td>\n",
              "      <td>0.4</td>\n",
              "      <td>122.25</td>\n",
              "      <td>110.45</td>\n",
              "      <td>0.0</td>\n",
              "      <td>38.6</td>\n",
              "      <td>84.07</td>\n",
              "      <td>84.25</td>\n",
              "      <td>1.80</td>\n",
              "      <td>1.0</td>\n",
              "      <td>1.76</td>\n",
              "    </tr>\n",
              "    <tr>\n",
              "      <th>1205</th>\n",
              "      <td>996782</td>\n",
              "      <td>F</td>\n",
              "      <td>26-30</td>\n",
              "      <td>30</td>\n",
              "      <td>4</td>\n",
              "      <td>1</td>\n",
              "      <td>1</td>\n",
              "      <td>1</td>\n",
              "      <td>0</td>\n",
              "      <td>1</td>\n",
              "      <td>...</td>\n",
              "      <td>6.0</td>\n",
              "      <td>108.79</td>\n",
              "      <td>97.19</td>\n",
              "      <td>0.0</td>\n",
              "      <td>38.6</td>\n",
              "      <td>75.43</td>\n",
              "      <td>73.72</td>\n",
              "      <td>1.84</td>\n",
              "      <td>0.0</td>\n",
              "      <td>1.84</td>\n",
              "    </tr>\n",
              "  </tbody>\n",
              "</table>\n",
              "<p>656 rows × 499 columns</p>\n",
              "</div>\n",
              "      <button class=\"colab-df-convert\" onclick=\"convertToInteractive('df-616f8d84-a67f-472a-b946-fdd382ebb5f0')\"\n",
              "              title=\"Convert this dataframe to an interactive table.\"\n",
              "              style=\"display:none;\">\n",
              "        \n",
              "  <svg xmlns=\"http://www.w3.org/2000/svg\" height=\"24px\"viewBox=\"0 0 24 24\"\n",
              "       width=\"24px\">\n",
              "    <path d=\"M0 0h24v24H0V0z\" fill=\"none\"/>\n",
              "    <path d=\"M18.56 5.44l.94 2.06.94-2.06 2.06-.94-2.06-.94-.94-2.06-.94 2.06-2.06.94zm-11 1L8.5 8.5l.94-2.06 2.06-.94-2.06-.94L8.5 2.5l-.94 2.06-2.06.94zm10 10l.94 2.06.94-2.06 2.06-.94-2.06-.94-.94-2.06-.94 2.06-2.06.94z\"/><path d=\"M17.41 7.96l-1.37-1.37c-.4-.4-.92-.59-1.43-.59-.52 0-1.04.2-1.43.59L10.3 9.45l-7.72 7.72c-.78.78-.78 2.05 0 2.83L4 21.41c.39.39.9.59 1.41.59.51 0 1.02-.2 1.41-.59l7.78-7.78 2.81-2.81c.8-.78.8-2.07 0-2.86zM5.41 20L4 18.59l7.72-7.72 1.47 1.35L5.41 20z\"/>\n",
              "  </svg>\n",
              "      </button>\n",
              "      \n",
              "  <style>\n",
              "    .colab-df-container {\n",
              "      display:flex;\n",
              "      flex-wrap:wrap;\n",
              "      gap: 12px;\n",
              "    }\n",
              "\n",
              "    .colab-df-convert {\n",
              "      background-color: #E8F0FE;\n",
              "      border: none;\n",
              "      border-radius: 50%;\n",
              "      cursor: pointer;\n",
              "      display: none;\n",
              "      fill: #1967D2;\n",
              "      height: 32px;\n",
              "      padding: 0 0 0 0;\n",
              "      width: 32px;\n",
              "    }\n",
              "\n",
              "    .colab-df-convert:hover {\n",
              "      background-color: #E2EBFA;\n",
              "      box-shadow: 0px 1px 2px rgba(60, 64, 67, 0.3), 0px 1px 3px 1px rgba(60, 64, 67, 0.15);\n",
              "      fill: #174EA6;\n",
              "    }\n",
              "\n",
              "    [theme=dark] .colab-df-convert {\n",
              "      background-color: #3B4455;\n",
              "      fill: #D2E3FC;\n",
              "    }\n",
              "\n",
              "    [theme=dark] .colab-df-convert:hover {\n",
              "      background-color: #434B5C;\n",
              "      box-shadow: 0px 1px 3px 1px rgba(0, 0, 0, 0.15);\n",
              "      filter: drop-shadow(0px 1px 2px rgba(0, 0, 0, 0.3));\n",
              "      fill: #FFFFFF;\n",
              "    }\n",
              "  </style>\n",
              "\n",
              "      <script>\n",
              "        const buttonEl =\n",
              "          document.querySelector('#df-616f8d84-a67f-472a-b946-fdd382ebb5f0 button.colab-df-convert');\n",
              "        buttonEl.style.display =\n",
              "          google.colab.kernel.accessAllowed ? 'block' : 'none';\n",
              "\n",
              "        async function convertToInteractive(key) {\n",
              "          const element = document.querySelector('#df-616f8d84-a67f-472a-b946-fdd382ebb5f0');\n",
              "          const dataTable =\n",
              "            await google.colab.kernel.invokeFunction('convertToInteractive',\n",
              "                                                     [key], {});\n",
              "          if (!dataTable) return;\n",
              "\n",
              "          const docLinkHtml = 'Like what you see? Visit the ' +\n",
              "            '<a target=\"_blank\" href=https://colab.research.google.com/notebooks/data_table.ipynb>data table notebook</a>'\n",
              "            + ' to learn more about interactive tables.';\n",
              "          element.innerHTML = '';\n",
              "          dataTable['output_type'] = 'display_data';\n",
              "          await google.colab.output.renderOutput(dataTable, element);\n",
              "          const docLink = document.createElement('div');\n",
              "          docLink.innerHTML = docLinkHtml;\n",
              "          element.appendChild(docLink);\n",
              "        }\n",
              "      </script>\n",
              "    </div>\n",
              "  </div>\n",
              "  "
            ]
          },
          "metadata": {},
          "execution_count": 86
        }
      ],
      "source": [
        "#@title\n",
        "df[df['Gender']==\"F\"]"
      ]
    },
    {
      "cell_type": "markdown",
      "metadata": {
        "id": "jgl2Bg-zV-Tn"
      },
      "source": [
        "### A quick note on documentation\n",
        "Woah! So many columns and abbreviations! What do they all mean? Make sure you know where your [dataset's documentation](https://wiki.humanconnectome.org/display/PublicData/HCP-YA+Data+Dictionary-+Updated+for+the+1200+Subject+Release#HCPYADataDictionaryUpdatedforthe1200SubjectRelease-Instrument:Demographics) is.\n",
        "\n",
        "Unfortunately, thorough documentation is not always available. Some data types are also very field-specific and require the help of experts, which is part of what makes machine learning so wonderfully interdisciplinary.\n",
        "\n",
        "Let's take a look at what features we have here:"
      ]
    },
    {
      "cell_type": "code",
      "source": [
        "print(df.columns)"
      ],
      "metadata": {
        "colab": {
          "base_uri": "https://localhost:8080/"
        },
        "id": "yLwc_rf0j19-",
        "outputId": "93b6d0a2-a855-4f11-caca-2fe46ddf871f"
      },
      "execution_count": 87,
      "outputs": [
        {
          "output_type": "stream",
          "name": "stdout",
          "text": [
            "Index(['Subject', 'Gender', 'Age', 'MMSE_Score', 'PSQI_Score', 'PSQI_Comp1',\n",
            "       'PSQI_Comp2', 'PSQI_Comp3', 'PSQI_Comp4', 'PSQI_Comp5',\n",
            "       ...\n",
            "       'Noise_Comp', 'Odor_Unadj', 'Odor_AgeAdj', 'PainIntens_RawScore',\n",
            "       'PainInterf_Tscore', 'Taste_Unadj', 'Taste_AgeAdj', 'Mars_Log_Score',\n",
            "       'Mars_Errs', 'Mars_Final'],\n",
            "      dtype='object', length=499)\n"
          ]
        }
      ]
    },
    {
      "cell_type": "markdown",
      "source": [
        "**Question 4:** The script above is not printing ALL of the columns... How do we fix that to be able to see all the features in the dataset?"
      ],
      "metadata": {
        "id": "aMyKyvPtj9cy"
      }
    },
    {
      "cell_type": "code",
      "execution_count": 88,
      "metadata": {
        "id": "3AWelNh_V-To",
        "colab": {
          "base_uri": "https://localhost:8080/"
        },
        "outputId": "3b5add70-c172-4b25-b452-552b38a86890",
        "cellView": "form",
        "collapsed": true
      },
      "outputs": [
        {
          "output_type": "stream",
          "name": "stdout",
          "text": [
            "Subject\n",
            "Gender\n",
            "Age\n",
            "MMSE_Score\n",
            "PSQI_Score\n",
            "PSQI_Comp1\n",
            "PSQI_Comp2\n",
            "PSQI_Comp3\n",
            "PSQI_Comp4\n",
            "PSQI_Comp5\n",
            "PSQI_Comp6\n",
            "PSQI_Comp7\n",
            "PSQI_BedTime\n",
            "PSQI_Min2Asleep\n",
            "PSQI_GetUpTime\n",
            "PSQI_AmtSleep\n",
            "PSQI_Latency30Min\n",
            "PSQI_WakeUp\n",
            "PSQI_Bathroom\n",
            "PSQI_Breathe\n",
            "PSQI_Snore\n",
            "PSQI_TooCold\n",
            "PSQI_TooHot\n",
            "PSQI_BadDream\n",
            "PSQI_Pain\n",
            "PSQI_Other\n",
            "PSQI_Quality\n",
            "PSQI_SleepMeds\n",
            "PSQI_DayStayAwake\n",
            "PSQI_DayEnthusiasm\n",
            "PSQI_BedPtnrRmate\n",
            "PicSeq_Unadj\n",
            "PicSeq_AgeAdj\n",
            "CardSort_Unadj\n",
            "CardSort_AgeAdj\n",
            "Flanker_Unadj\n",
            "Flanker_AgeAdj\n",
            "PMAT24_A_CR\n",
            "PMAT24_A_SI\n",
            "PMAT24_A_RTCR\n",
            "ReadEng_Unadj\n",
            "ReadEng_AgeAdj\n",
            "PicVocab_Unadj\n",
            "PicVocab_AgeAdj\n",
            "ProcSpeed_Unadj\n",
            "ProcSpeed_AgeAdj\n",
            "DDisc_SV_1mo_200\n",
            "DDisc_SV_6mo_200\n",
            "DDisc_SV_1yr_200\n",
            "DDisc_SV_3yr_200\n",
            "DDisc_SV_5yr_200\n",
            "DDisc_SV_10yr_200\n",
            "DDisc_SV_1mo_40K\n",
            "DDisc_SV_6mo_40K\n",
            "DDisc_SV_1yr_40K\n",
            "DDisc_SV_3yr_40K\n",
            "DDisc_SV_5yr_40K\n",
            "DDisc_SV_10yr_40K\n",
            "DDisc_AUC_200\n",
            "DDisc_AUC_200.1\n",
            "DDisc_AUC_40K\n",
            "VSPLOT_TC\n",
            "VSPLOT_CRTE\n",
            "VSPLOT_OFF\n",
            "SCPT_TP\n",
            "SCPT_TN\n",
            "SCPT_FP\n",
            "SCPT_FN\n",
            "SCPT_TPRT\n",
            "SCPT_SEN\n",
            "SCPT_SPEC\n",
            "SCPT_LRNR\n",
            "IWRD_TOT\n",
            "IWRD_RTC\n",
            "ListSort_Unadj\n",
            "ListSort_AgeAdj\n",
            "CogFluidComp_Unadj\n",
            "CogFluidComp_AgeAdj\n",
            "CogEarlyComp_Unadj\n",
            "CogEarlyComp_AgeAdj\n",
            "CogTotalComp_Unadj\n",
            "CogTotalComp_AgeAdj\n",
            "CogCrystalComp_Unadj\n",
            "CogCrystalComp_AgeAdj\n",
            "ER40_CR\n",
            "ER40_CRT\n",
            "ER40ANG\n",
            "ER40FEAR\n",
            "ER40HAP\n",
            "ER40NOE\n",
            "ER40SAD\n",
            "AngAffect_Unadj\n",
            "AngHostil_Unadj\n",
            "AngAggr_Unadj\n",
            "FearAffect_Unadj\n",
            "FearSomat_Unadj\n",
            "Sadness_Unadj\n",
            "LifeSatisf_Unadj\n",
            "MeanPurp_Unadj\n",
            "PosAffect_Unadj\n",
            "Friendship_Unadj\n",
            "Loneliness_Unadj\n",
            "PercHostil_Unadj\n",
            "PercReject_Unadj\n",
            "EmotSupp_Unadj\n",
            "InstruSupp_Unadj\n",
            "PercStress_Unadj\n",
            "SelfEff_Unadj\n",
            "FS_IntraCranial_Vol\n",
            "FS_BrainSeg_Vol\n",
            "FS_BrainSeg_Vol_No_Vent\n",
            "FS_BrainSeg_Vol_No_Vent_Surf\n",
            "FS_LCort_GM_Vol\n",
            "FS_RCort_GM_Vol\n",
            "FS_TotCort_GM_Vol\n",
            "FS_SubCort_GM_Vol\n",
            "FS_Total_GM_Vol\n",
            "FS_SupraTentorial_Vol\n",
            "FS_L_WM_Vol\n",
            "FS_R_WM_Vol\n",
            "FS_Tot_WM_Vol\n",
            "FS_Mask_Vol\n",
            "FS_BrainSegVol_eTIV_Ratio\n",
            "FS_MaskVol_eTIV_Ratio\n",
            "FS_LH_Defect_Holes\n",
            "FS_RH_Defect_Holes\n",
            "FS_Total_Defect_Holes\n",
            "FS_L_LatVent_Vol\n",
            "FS_L_InfLatVent_Vol\n",
            "FS_L_Cerebellum_WM_Vol\n",
            "FS_L_Cerebellum_Cort_Vol\n",
            "FS_L_ThalamusProper_Vol\n",
            "FS_L_Caudate_Vol\n",
            "FS_L_Putamen_Vol\n",
            "FS_L_Pallidum_Vol\n",
            "FS_3rdVent_Vol\n",
            "FS_4thVent_Vol\n",
            "FS_BrainStem_Vol\n",
            "FS_L_Hippo_Vol\n",
            "FS_L_Amygdala_Vol\n",
            "FS_CSF_Vol\n",
            "FS_L_AccumbensArea_Vol\n",
            "FS_L_VentDC_Vol\n",
            "FS_L_Vessel_Vol\n",
            "FS_L_ChoroidPlexus_Vol\n",
            "FS_R_LatVent_Vol\n",
            "FS_R_InfLatVent_Vol\n",
            "FS_R_Cerebellum_WM_Vol\n",
            "FS_R_Cerebellum_Cort_Vol\n",
            "FS_R_ThalamusProper_Vol\n",
            "FS_R_Caudate_Vol\n",
            "FS_R_Putamen_Vol\n",
            "FS_R_Pallidum_Vol\n",
            "FS_R_Hippo_Vol\n",
            "FS_R_Amygdala_Vol\n",
            "FS_R_AccumbensArea_Vol\n",
            "FS_R_VentDC_Vol\n",
            "FS_R_Vessel_Vol\n",
            "FS_R_ChoroidPlexus_Vol\n",
            "FS_5thVent_Vol\n",
            "FS_WM_Hypointens_Vol\n",
            "FS_L_WM_Hypointens_Vol\n",
            "FS_R_WM_Hypointens_Vol\n",
            "FS_L_Non-WM_Hypointens_Vol\n",
            "FS_R_Non-WM_Hypointens_Vol\n",
            "FS_OpticChiasm_Vol\n",
            "FS_CC_Posterior_Vol\n",
            "FS_CC_MidPosterior_Vol\n",
            "FS_CC_Central_Vol\n",
            "FS_CC_MidAnterior_Vol\n",
            "FS_CC_Anterior_Vol\n",
            "FS_L_Bankssts_Thck\n",
            "FS_L_Caudalanteriorcingulate_Thck\n",
            "FS_L_Caudalmiddlefrontal_Thck\n",
            "FS_L_Cuneus_Thck\n",
            "FS_L_Entorhinal_Thck\n",
            "FS_L_Fusiform_Thck\n",
            "FS_L_Inferiorparietal_Thck\n",
            "FS_L_Inferiortemporal_Thck\n",
            "FS_L_Isthmuscingulate_Thck\n",
            "FS_L_Lateraloccipital_Thck\n",
            "FS_L_Lateralorbitofrontal_Thck\n",
            "FS_L_Lingual_Thck\n",
            "FS_L_Medialorbitofrontal_Thck\n",
            "FS_L_Middletemporal_Thck\n",
            "FS_L_Parahippocampal_Thck\n",
            "FS_L_Paracentral_Thck\n",
            "FS_L_Parsopercularis_Thck\n",
            "FS_L_Parsorbitalis_Thck\n",
            "FS_L_Parstriangularis_Thck\n",
            "FS_L_Pericalcarine_Thck\n",
            "FS_L_Postcentral_Thck\n",
            "FS_L_Posteriorcingulate_Thck\n",
            "FS_L_Precentral_Thck\n",
            "FS_L_Precuneus_Thck\n",
            "FS_L_Rostralanteriorcingulate_Thck\n",
            "FS_L_Rostralmiddlefrontal_Thck\n",
            "FS_L_Superiorfrontal_Thck\n",
            "FS_L_Superiorparietal_Thck\n",
            "FS_L_Superiortemporal_Thck\n",
            "FS_L_Supramarginal_Thck\n",
            "FS_L_Frontalpole_Thck\n",
            "FS_L_Temporalpole_Thck\n",
            "FS_L_Transversetemporal_Thck\n",
            "FS_L_Insula_Thck\n",
            "FS_R_Bankssts_Thck\n",
            "FS_R_Caudalanteriorcingulate_Thck\n",
            "FS_R_Caudalmiddlefrontal_Thck\n",
            "FS_R_Cuneus_Thck\n",
            "FS_R_Entorhinal_Thck\n",
            "FS_R_Fusiform_Thck\n",
            "FS_R_Inferiorparietal_Thck\n",
            "FS_R_Inferiortemporal_Thck\n",
            "FS_R_Isthmuscingulate_Thck\n",
            "FS_R_Lateraloccipital_Thck\n",
            "FS_R_Lateralorbitofrontal_Thck\n",
            "FS_R_Lingual_Thck\n",
            "FS_R_Medialorbitofrontal_Thck\n",
            "FS_R_Middletemporal_Thck\n",
            "FS_R_Parahippocampal_Thck\n",
            "FS_R_Paracentral_Thck\n",
            "FS_R_Parsopercularis_Thck\n",
            "FS_R_Parsorbitalis_Thck\n",
            "FS_R_Parstriangularis_Thck\n",
            "FS_R_Pericalcarine_Thck\n",
            "FS_R_Postcentral_Thck\n",
            "FS_R_Posteriorcingulate_Thck\n",
            "FS_R_Precentral_Thck\n",
            "FS_R_Precuneus_Thck\n",
            "FS_R_Rostralanteriorcingulate_Thck\n",
            "FS_R_Rostralmiddlefrontal_Thck\n",
            "FS_R_Superiorfrontal_Thck\n",
            "FS_R_Superiorparietal_Thck\n",
            "FS_R_Superiortemporal_Thck\n",
            "FS_R_Supramarginal_Thck\n",
            "FS_R_Frontalpole_Thck\n",
            "FS_R_Temporalpole_Thck\n",
            "FS_R_Transversetemporal_Thck\n",
            "FS_R_Insula_Thck\n",
            "FS_L_Bankssts_Area\n",
            "FS_L_Caudalanteriorcingulate_Area\n",
            "FS_L_Caudalmiddlefrontal_Area\n",
            "FS_L_Cuneus_Area\n",
            "FS_L_Entorhinal_Area\n",
            "FS_L_Fusiform_Area\n",
            "FS_L_Inferiorparietal_Area\n",
            "FS_L_Inferiortemporal_Area\n",
            "FS_L_Isthmuscingulate_Area\n",
            "FS_L_Lateraloccipital_Area\n",
            "FS_L_Lateralorbitofrontal_Area\n",
            "FS_L_Lingual_Area\n",
            "FS_L_Medialorbitofrontal_Area\n",
            "FS_L_Middletemporal_Area\n",
            "FS_L_Parahippocampal_Area\n",
            "FS_L_Paracentral_Area\n",
            "FS_L_Parsopercularis_Area\n",
            "FS_L_Parsorbitalis_Area\n",
            "FS_L_Parstriangularis_Area\n",
            "FS_L_Pericalcarine_Area\n",
            "FS_L_Postcentral_Area\n",
            "FS_L_Posteriorcingulate_Area\n",
            "FS_L_Precentral_Area\n",
            "FS_L_Precuneus_Area\n",
            "FS_L_Rostralanteriorcingulate_Area\n",
            "FS_L_Rostralmiddlefrontal_Area\n",
            "FS_L_Superiorfrontal_Area\n",
            "FS_L_Superiorparietal_Area\n",
            "FS_L_Superiortemporal_Area\n",
            "FS_L_Supramarginal_Area\n",
            "FS_L_Frontalpole_Area\n",
            "FS_L_Temporalpole_Area\n",
            "FS_L_Transversetemporal_Area\n",
            "FS_L_Insula_Area\n",
            "FS_R_Bankssts_Area\n",
            "FS_R_Caudalanteriorcingulate_Area\n",
            "FS_R_Caudalmiddlefrontal_Area\n",
            "FS_R_Cuneus_Area\n",
            "FS_R_Entorhinal_Area\n",
            "FS_R_Fusiform_Area\n",
            "FS_R_Inferiorparietal_Area\n",
            "FS_R_Inferiortemporal_Area\n",
            "FS_R_Isthmuscingulate_Area\n",
            "FS_R_Lateraloccipital_Area\n",
            "FS_R_Lateralorbitofrontal_Area\n",
            "FS_R_Lingual_Area\n",
            "FS_R_Medialorbitofrontal_Area\n",
            "FS_R_Middletemporal_Area\n",
            "FS_R_Parahippocampal_Area\n",
            "FS_R_Paracentral_Area\n",
            "FS_R_Parsopercularis_Area\n",
            "FS_R_Parsorbitalis_Area\n",
            "FS_R_Parstriangularis_Area\n",
            "FS_R_Pericalcarine_Area\n",
            "FS_R_Postcentral_Area\n",
            "FS_R_Posteriorcingulate_Area\n",
            "FS_R_Precentral_Area\n",
            "FS_R_Precuneus_Area\n",
            "FS_R_Rostralanteriorcingulate_Area\n",
            "FS_R_Rostralmiddlefrontal_Area\n",
            "FS_R_Superiorfrontal_Area\n",
            "FS_R_Superiorparietal_Area\n",
            "FS_R_Superiortemporal_Area\n",
            "FS_R_Supramarginal_Area\n",
            "FS_R_Frontalpole_Area\n",
            "FS_R_Temporalpole_Area\n",
            "FS_R_Transversetemporal_Area\n",
            "FS_R_Insula_Area\n",
            "Emotion_Task_Acc\n",
            "Emotion_Task_Median_RT\n",
            "Emotion_Task_Face_Acc\n",
            "Emotion_Task_Face_Median_RT\n",
            "Emotion_Task_Shape_Acc\n",
            "Emotion_Task_Shape_Median_RT\n",
            "Gambling_Task_Perc_Larger\n",
            "Gambling_Task_Perc_Smaller\n",
            "Gambling_Task_Perc_NLR\n",
            "Gambling_Task_Median_RT_Larger\n",
            "Gambling_Task_Median_RT_Smaller\n",
            "Gambling_Task_Reward_Perc_Larger\n",
            "Gambling_Task_Reward_Median_RT_Larger\n",
            "Gambling_Task_Reward_Perc_Smaller\n",
            "Gambling_Task_Reward_Median_RT_Smaller\n",
            "Gambling_Task_Reward_Perc_NLR\n",
            "Gambling_Task_Punish_Perc_Larger\n",
            "Gambling_Task_Punish_Median_RT_Larger\n",
            "Gambling_Task_Punish_Perc_Smaller\n",
            "Gambling_Task_Punish_Median_RT_Smaller\n",
            "Gambling_Task_Punish_Perc_NLR\n",
            "Language_Task_Acc\n",
            "Language_Task_Median_RT\n",
            "Language_Task_Story_Acc\n",
            "Language_Task_Story_Median_RT\n",
            "Language_Task_Story_Avg_Difficulty_Level\n",
            "Language_Task_Math_Acc\n",
            "Language_Task_Math_Median_RT\n",
            "Language_Task_Math_Avg_Difficulty_Level\n",
            "Relational_Task_Acc\n",
            "Relational_Task_Median_RT\n",
            "Relational_Task_Match_Acc\n",
            "Relational_Task_Match_Median_RT\n",
            "Relational_Task_Rel_Acc\n",
            "Relational_Task_Rel_Median_RT\n",
            "Social_Task_Perc_Random\n",
            "Social_Task_Perc_TOM\n",
            "Social_Task_Perc_Unsure\n",
            "Social_Task_Perc_NLR\n",
            "Social_Task_Median_RT_Random\n",
            "Social_Task_Median_RT_TOM\n",
            "Social_Task_Median_RT_Unsure\n",
            "Social_Task_Random_Perc_Random\n",
            "Social_Task_Random_Median_RT_Random\n",
            "Social_Task_Random_Perc_TOM\n",
            "Social_Task_Random_Median_RT_TOM\n",
            "Social_Task_Random_Perc_Unsure\n",
            "Social_Task_Random_Median_RT_Unsure\n",
            "Social_Task_Random_Perc_NLR\n",
            "Social_Task_TOM_Perc_Random\n",
            "Social_Task_TOM_Median_RT_Random\n",
            "Social_Task_TOM_Perc_TOM\n",
            "Social_Task_TOM_Median_RT_TOM\n",
            "Social_Task_TOM_Perc_Unsure\n",
            "Social_Task_TOM_Median_RT_Unsure\n",
            "Social_Task_TOM_Perc_NLR\n",
            "WM_Task_Acc\n",
            "WM_Task_Median_RT\n",
            "WM_Task_2bk_Acc\n",
            "WM_Task_2bk_Median_RT\n",
            "WM_Task_0bk_Acc\n",
            "WM_Task_0bk_Median_RT\n",
            "WM_Task_0bk_Body_Acc\n",
            "WM_Task_0bk_Body_Acc_Target\n",
            "WM_Task_0bk_Body_Acc_Nontarget\n",
            "WM_Task_0bk_Face_Acc\n",
            "WM_Task_0bk_Face_Acc_Target\n",
            "WM_Task_0bk_Face_ACC_Nontarget\n",
            "WM_Task_0bk_Place_Acc\n",
            "WM_Task_0bk_Place_Acc_Target\n",
            "WM_Task_0bk_Place_Acc_Nontarget\n",
            "WM_Task_0bk_Tool_Acc\n",
            "WM_Task_0bk_Tool_Acc_Target\n",
            "WM_Task_0bk_Tool_Acc_Nontarget\n",
            "WM_Task_2bk_Body_Acc\n",
            "WM_Task_2bk_Body_Acc_Target\n",
            "WM_Task_2bk_Body_Acc_Nontarget\n",
            "WM_Task_2bk_Face_Acc\n",
            "WM_Task_2bk_Face_Acc_Target\n",
            "WM_Task_2bk_Face_Acc_Nontarget\n",
            "WM_Task_2bk_Place_Acc\n",
            "WM_Task_2bk_Place_Acc_Target\n",
            "WM_Task_2bk_Place_Acc_Nontarget\n",
            "WM_Task_2bk_Tool_Acc\n",
            "WM_Task_2bk_Tool_Acc_Target\n",
            "WM_Task_2bk_Tool_Acc_Nontarget\n",
            "WM_Task_0bk_Body_Median_RT\n",
            "WM_Task_0bk_Body_Median_RT_Target\n",
            "WM_Task_0bk_Body_Median_RT_Nontarget\n",
            "WM_Task_0bk_Face_Median_RT\n",
            "WM_Task_0bk_Face_Median_RT_Target\n",
            "WM_Task_0bk_Face_Median_RT_Nontarget\n",
            "WM_Task_0bk_Place_Median_RT\n",
            "WM_Task_0bk_Place_Median_RT_Target\n",
            "WM_Task_0bk_Place_Median_RT_Nontarget\n",
            "WM_Task_0bk_Tool_Median_RT\n",
            "WM_Task_0bk_Tool_Median_RT_Target\n",
            "WM_Task_0bk_Tool_Median_RT_Nontarget\n",
            "WM_Task_2bk_Body_Median_RT\n",
            "WM_Task_2bk_Body_Median_RT_Target\n",
            "WM_Task_2bk_Body_Median_RT_Nontarget\n",
            "WM_Task_2bk_Face_Median_RT\n",
            "WM_Task_2bk_Face_Median_RT_Target\n",
            "WM_Task_2bk_Face_Median_RT_Nontarget\n",
            "WM_Task_2bk_Place_Median_RT\n",
            "WM_Task_2bk_Place_Median_RT_Target\n",
            "WM_Task_2bk_Place_Median_RT_Nontarget\n",
            "WM_Task_2bk_Tool_Median_RT\n",
            "WM_Task_2bk_Tool_Median_RT_Target\n",
            "WM_Task_2bk_Tool_Median_RT_Nontarget\n",
            "Endurance_Unadj\n",
            "Endurance_AgeAdj\n",
            "GaitSpeed_Comp\n",
            "Dexterity_Unadj\n",
            "Dexterity_AgeAdj\n",
            "Strength_Unadj\n",
            "Strength_AgeAdj\n",
            "NEOFAC_A\n",
            "NEOFAC_O\n",
            "NEOFAC_C\n",
            "NEOFAC_N\n",
            "NEOFAC_E\n",
            "NEORAW_01\n",
            "NEORAW_02\n",
            "NEORAW_03\n",
            "NEORAW_04\n",
            "NEORAW_05\n",
            "NEORAW_06\n",
            "NEORAW_07\n",
            "NEORAW_08\n",
            "NEORAW_09\n",
            "NEORAW_10\n",
            "NEORAW_11\n",
            "NEORAW_12\n",
            "NEORAW_13\n",
            "NEORAW_14\n",
            "NEORAW_15\n",
            "NEORAW_16\n",
            "NEORAW_17\n",
            "NEORAW_18\n",
            "NEORAW_19\n",
            "NEORAW_20\n",
            "NEORAW_21\n",
            "NEORAW_22\n",
            "NEORAW_23\n",
            "NEORAW_24\n",
            "NEORAW_25\n",
            "NEORAW_26\n",
            "NEORAW_27\n",
            "NEORAW_28\n",
            "NEORAW_29\n",
            "NEORAW_30\n",
            "NEORAW_31\n",
            "NEORAW_32\n",
            "NEORAW_33\n",
            "NEORAW_34\n",
            "NEORAW_35\n",
            "NEORAW_36\n",
            "NEORAW_37\n",
            "NEORAW_38\n",
            "NEORAW_39\n",
            "NEORAW_40\n",
            "NEORAW_41\n",
            "NEORAW_42\n",
            "NEORAW_43\n",
            "NEORAW_44\n",
            "NEORAW_45\n",
            "NEORAW_46\n",
            "NEORAW_47\n",
            "NEORAW_48\n",
            "NEORAW_49\n",
            "NEORAW_50\n",
            "NEORAW_51\n",
            "NEORAW_52\n",
            "NEORAW_53\n",
            "NEORAW_54\n",
            "NEORAW_55\n",
            "NEORAW_56\n",
            "NEORAW_57\n",
            "NEORAW_58\n",
            "NEORAW_59\n",
            "NEORAW_60\n",
            "Noise_Comp\n",
            "Odor_Unadj\n",
            "Odor_AgeAdj\n",
            "PainIntens_RawScore\n",
            "PainInterf_Tscore\n",
            "Taste_Unadj\n",
            "Taste_AgeAdj\n",
            "Mars_Log_Score\n",
            "Mars_Errs\n",
            "Mars_Final\n"
          ]
        }
      ],
      "source": [
        "#@title\n",
        "for col in df.columns: print(col)"
      ]
    },
    {
      "cell_type": "markdown",
      "metadata": {
        "id": "pVZ3jtdSV-To"
      },
      "source": [
        "Handpicking the columns you want to work with:\n",
        "\n"
      ]
    },
    {
      "cell_type": "code",
      "execution_count": 89,
      "metadata": {
        "id": "RBMC8C2QV-To",
        "colab": {
          "base_uri": "https://localhost:8080/",
          "height": 419
        },
        "outputId": "8bf36aa1-3444-482f-827d-44be14dee7ac"
      },
      "outputs": [
        {
          "output_type": "execute_result",
          "data": {
            "text/plain": [
              "      Subject Gender    Age PSQI_BedTime\n",
              "0      100004      M  22-25      9:00:00\n",
              "1      100206      M  26-30     22:30:00\n",
              "2      100307      F  26-30     22:00:00\n",
              "3      100408      M  31-35     22:00:00\n",
              "4      100610      M  26-30     21:30:00\n",
              "...       ...    ...    ...          ...\n",
              "1201   992774      M  31-35     22:00:00\n",
              "1202   993675      F  26-30     22:00:00\n",
              "1203   994273      M  26-30      2:00:00\n",
              "1204   995174      M  22-25     23:00:00\n",
              "1205   996782      F  26-30     23:30:00\n",
              "\n",
              "[1206 rows x 4 columns]"
            ],
            "text/html": [
              "\n",
              "  <div id=\"df-192a8ac0-5972-4306-96b3-7e08e2949d50\">\n",
              "    <div class=\"colab-df-container\">\n",
              "      <div>\n",
              "<style scoped>\n",
              "    .dataframe tbody tr th:only-of-type {\n",
              "        vertical-align: middle;\n",
              "    }\n",
              "\n",
              "    .dataframe tbody tr th {\n",
              "        vertical-align: top;\n",
              "    }\n",
              "\n",
              "    .dataframe thead th {\n",
              "        text-align: right;\n",
              "    }\n",
              "</style>\n",
              "<table border=\"1\" class=\"dataframe\">\n",
              "  <thead>\n",
              "    <tr style=\"text-align: right;\">\n",
              "      <th></th>\n",
              "      <th>Subject</th>\n",
              "      <th>Gender</th>\n",
              "      <th>Age</th>\n",
              "      <th>PSQI_BedTime</th>\n",
              "    </tr>\n",
              "  </thead>\n",
              "  <tbody>\n",
              "    <tr>\n",
              "      <th>0</th>\n",
              "      <td>100004</td>\n",
              "      <td>M</td>\n",
              "      <td>22-25</td>\n",
              "      <td>9:00:00</td>\n",
              "    </tr>\n",
              "    <tr>\n",
              "      <th>1</th>\n",
              "      <td>100206</td>\n",
              "      <td>M</td>\n",
              "      <td>26-30</td>\n",
              "      <td>22:30:00</td>\n",
              "    </tr>\n",
              "    <tr>\n",
              "      <th>2</th>\n",
              "      <td>100307</td>\n",
              "      <td>F</td>\n",
              "      <td>26-30</td>\n",
              "      <td>22:00:00</td>\n",
              "    </tr>\n",
              "    <tr>\n",
              "      <th>3</th>\n",
              "      <td>100408</td>\n",
              "      <td>M</td>\n",
              "      <td>31-35</td>\n",
              "      <td>22:00:00</td>\n",
              "    </tr>\n",
              "    <tr>\n",
              "      <th>4</th>\n",
              "      <td>100610</td>\n",
              "      <td>M</td>\n",
              "      <td>26-30</td>\n",
              "      <td>21:30:00</td>\n",
              "    </tr>\n",
              "    <tr>\n",
              "      <th>...</th>\n",
              "      <td>...</td>\n",
              "      <td>...</td>\n",
              "      <td>...</td>\n",
              "      <td>...</td>\n",
              "    </tr>\n",
              "    <tr>\n",
              "      <th>1201</th>\n",
              "      <td>992774</td>\n",
              "      <td>M</td>\n",
              "      <td>31-35</td>\n",
              "      <td>22:00:00</td>\n",
              "    </tr>\n",
              "    <tr>\n",
              "      <th>1202</th>\n",
              "      <td>993675</td>\n",
              "      <td>F</td>\n",
              "      <td>26-30</td>\n",
              "      <td>22:00:00</td>\n",
              "    </tr>\n",
              "    <tr>\n",
              "      <th>1203</th>\n",
              "      <td>994273</td>\n",
              "      <td>M</td>\n",
              "      <td>26-30</td>\n",
              "      <td>2:00:00</td>\n",
              "    </tr>\n",
              "    <tr>\n",
              "      <th>1204</th>\n",
              "      <td>995174</td>\n",
              "      <td>M</td>\n",
              "      <td>22-25</td>\n",
              "      <td>23:00:00</td>\n",
              "    </tr>\n",
              "    <tr>\n",
              "      <th>1205</th>\n",
              "      <td>996782</td>\n",
              "      <td>F</td>\n",
              "      <td>26-30</td>\n",
              "      <td>23:30:00</td>\n",
              "    </tr>\n",
              "  </tbody>\n",
              "</table>\n",
              "<p>1206 rows × 4 columns</p>\n",
              "</div>\n",
              "      <button class=\"colab-df-convert\" onclick=\"convertToInteractive('df-192a8ac0-5972-4306-96b3-7e08e2949d50')\"\n",
              "              title=\"Convert this dataframe to an interactive table.\"\n",
              "              style=\"display:none;\">\n",
              "        \n",
              "  <svg xmlns=\"http://www.w3.org/2000/svg\" height=\"24px\"viewBox=\"0 0 24 24\"\n",
              "       width=\"24px\">\n",
              "    <path d=\"M0 0h24v24H0V0z\" fill=\"none\"/>\n",
              "    <path d=\"M18.56 5.44l.94 2.06.94-2.06 2.06-.94-2.06-.94-.94-2.06-.94 2.06-2.06.94zm-11 1L8.5 8.5l.94-2.06 2.06-.94-2.06-.94L8.5 2.5l-.94 2.06-2.06.94zm10 10l.94 2.06.94-2.06 2.06-.94-2.06-.94-.94-2.06-.94 2.06-2.06.94z\"/><path d=\"M17.41 7.96l-1.37-1.37c-.4-.4-.92-.59-1.43-.59-.52 0-1.04.2-1.43.59L10.3 9.45l-7.72 7.72c-.78.78-.78 2.05 0 2.83L4 21.41c.39.39.9.59 1.41.59.51 0 1.02-.2 1.41-.59l7.78-7.78 2.81-2.81c.8-.78.8-2.07 0-2.86zM5.41 20L4 18.59l7.72-7.72 1.47 1.35L5.41 20z\"/>\n",
              "  </svg>\n",
              "      </button>\n",
              "      \n",
              "  <style>\n",
              "    .colab-df-container {\n",
              "      display:flex;\n",
              "      flex-wrap:wrap;\n",
              "      gap: 12px;\n",
              "    }\n",
              "\n",
              "    .colab-df-convert {\n",
              "      background-color: #E8F0FE;\n",
              "      border: none;\n",
              "      border-radius: 50%;\n",
              "      cursor: pointer;\n",
              "      display: none;\n",
              "      fill: #1967D2;\n",
              "      height: 32px;\n",
              "      padding: 0 0 0 0;\n",
              "      width: 32px;\n",
              "    }\n",
              "\n",
              "    .colab-df-convert:hover {\n",
              "      background-color: #E2EBFA;\n",
              "      box-shadow: 0px 1px 2px rgba(60, 64, 67, 0.3), 0px 1px 3px 1px rgba(60, 64, 67, 0.15);\n",
              "      fill: #174EA6;\n",
              "    }\n",
              "\n",
              "    [theme=dark] .colab-df-convert {\n",
              "      background-color: #3B4455;\n",
              "      fill: #D2E3FC;\n",
              "    }\n",
              "\n",
              "    [theme=dark] .colab-df-convert:hover {\n",
              "      background-color: #434B5C;\n",
              "      box-shadow: 0px 1px 3px 1px rgba(0, 0, 0, 0.15);\n",
              "      filter: drop-shadow(0px 1px 2px rgba(0, 0, 0, 0.3));\n",
              "      fill: #FFFFFF;\n",
              "    }\n",
              "  </style>\n",
              "\n",
              "      <script>\n",
              "        const buttonEl =\n",
              "          document.querySelector('#df-192a8ac0-5972-4306-96b3-7e08e2949d50 button.colab-df-convert');\n",
              "        buttonEl.style.display =\n",
              "          google.colab.kernel.accessAllowed ? 'block' : 'none';\n",
              "\n",
              "        async function convertToInteractive(key) {\n",
              "          const element = document.querySelector('#df-192a8ac0-5972-4306-96b3-7e08e2949d50');\n",
              "          const dataTable =\n",
              "            await google.colab.kernel.invokeFunction('convertToInteractive',\n",
              "                                                     [key], {});\n",
              "          if (!dataTable) return;\n",
              "\n",
              "          const docLinkHtml = 'Like what you see? Visit the ' +\n",
              "            '<a target=\"_blank\" href=https://colab.research.google.com/notebooks/data_table.ipynb>data table notebook</a>'\n",
              "            + ' to learn more about interactive tables.';\n",
              "          element.innerHTML = '';\n",
              "          dataTable['output_type'] = 'display_data';\n",
              "          await google.colab.output.renderOutput(dataTable, element);\n",
              "          const docLink = document.createElement('div');\n",
              "          docLink.innerHTML = docLinkHtml;\n",
              "          element.appendChild(docLink);\n",
              "        }\n",
              "      </script>\n",
              "    </div>\n",
              "  </div>\n",
              "  "
            ]
          },
          "metadata": {},
          "execution_count": 89
        }
      ],
      "source": [
        "basics = ['Subject','Gender','Age','PSQI_BedTime']\n",
        "df[basics]"
      ]
    },
    {
      "cell_type": "markdown",
      "metadata": {
        "id": "mve4NaXUV-To"
      },
      "source": [
        "Let's also add all of some cognitive variables to the mix! Specifically, we'll select the measures related to fluid intelligence (they start with `PMAT` for Penn Matrix Test) and impulsivity (they start with `DDisc` for Delay Discounting)"
      ]
    },
    {
      "cell_type": "code",
      "execution_count": 90,
      "metadata": {
        "scrolled": true,
        "id": "TSd4Fw-xV-To",
        "colab": {
          "base_uri": "https://localhost:8080/"
        },
        "outputId": "cd3ce61a-e828-4921-8299-2e5140aa3cd0"
      },
      "outputs": [
        {
          "output_type": "stream",
          "name": "stdout",
          "text": [
            "List of variables we will be looking at: ['Subject', 'Gender', 'Age', 'PSQI_BedTime', 'PMAT24_A_CR', 'PMAT24_A_SI', 'PMAT24_A_RTCR', 'DDisc_SV_1mo_200', 'DDisc_SV_6mo_200', 'DDisc_SV_1yr_200', 'DDisc_SV_3yr_200', 'DDisc_SV_5yr_200', 'DDisc_SV_10yr_200', 'DDisc_SV_1mo_40K', 'DDisc_SV_6mo_40K', 'DDisc_SV_1yr_40K', 'DDisc_SV_3yr_40K', 'DDisc_SV_5yr_40K', 'DDisc_SV_10yr_40K', 'DDisc_AUC_200', 'DDisc_AUC_200.1', 'DDisc_AUC_40K']\n"
          ]
        }
      ],
      "source": [
        "cognition = ['Subject','Gender','Age','PSQI_BedTime']\n",
        "for col in df.columns:\n",
        "    if (col.find(\"PMAT\")!=-1 or col.find(\"DDisc\")!=-1):\n",
        "        cognition.append(col)\n",
        "print(f\"List of variables we will be looking at: {cognition}\") # PS: f-strings will be very useful for you in your Python journey!"
      ]
    },
    {
      "cell_type": "markdown",
      "metadata": {
        "id": "2TyvOYGOV-To"
      },
      "source": [
        "**Question 5:** Now that we made a list of all of the features we want to examine, select this subset of our data and make it a separate dataframe called `df_cognition`."
      ]
    },
    {
      "cell_type": "code",
      "execution_count": 91,
      "metadata": {
        "id": "6cc_jyXLV-Tp",
        "colab": {
          "base_uri": "https://localhost:8080/",
          "height": 382
        },
        "outputId": "03ba89e2-ab0e-411e-f900-0af600b30ec7"
      },
      "outputs": [
        {
          "output_type": "execute_result",
          "data": {
            "text/plain": [
              "   Subject Gender    Age PSQI_BedTime  PMAT24_A_CR  PMAT24_A_SI  \\\n",
              "0   100004      M  22-25      9:00:00         19.0          0.0   \n",
              "1   100206      M  26-30     22:30:00         20.0          0.0   \n",
              "2   100307      F  26-30     22:00:00         17.0          2.0   \n",
              "3   100408      M  31-35     22:00:00          7.0         12.0   \n",
              "4   100610      M  26-30     21:30:00         23.0          0.0   \n",
              "\n",
              "   PMAT24_A_RTCR  DDisc_SV_1mo_200  DDisc_SV_6mo_200  DDisc_SV_1yr_200  ...  \\\n",
              "0        15590.0            153.13             46.88             21.88  ...   \n",
              "1        18574.5             78.13             34.38              9.38  ...   \n",
              "2        11839.0            103.13             46.88            103.13  ...   \n",
              "3         3042.0            153.13             46.88             46.88  ...   \n",
              "4        12280.0            196.88            196.88            184.38  ...   \n",
              "\n",
              "   DDisc_SV_10yr_200  DDisc_SV_1mo_40K  DDisc_SV_6mo_40K  DDisc_SV_1yr_40K  \\\n",
              "0              21.88           34375.0           24375.0             625.0   \n",
              "1               9.38           30625.0             625.0             625.0   \n",
              "2               9.38           19375.0           29375.0           24375.0   \n",
              "3               9.38           39375.0           29375.0           24375.0   \n",
              "4             146.88           39375.0           39375.0           39375.0   \n",
              "\n",
              "   DDisc_SV_3yr_40K  DDisc_SV_5yr_40K  DDisc_SV_10yr_40K  DDisc_AUC_200  \\\n",
              "0             625.0             625.0              625.0       0.121811   \n",
              "1            3125.0             625.0              625.0       0.097072   \n",
              "2            9375.0            9375.0             9375.0       0.162176   \n",
              "3           19375.0           18125.0             4375.0       0.203061   \n",
              "4           39375.0           36875.0            24375.0       0.801629   \n",
              "\n",
              "   DDisc_AUC_200.1  DDisc_AUC_40K  \n",
              "0         0.121811       0.067448  \n",
              "1         0.097072       0.050000  \n",
              "2         0.162176       0.311459  \n",
              "3         0.203061       0.421354  \n",
              "4         0.801629       0.868750  \n",
              "\n",
              "[5 rows x 22 columns]"
            ],
            "text/html": [
              "\n",
              "  <div id=\"df-f5bf1fb9-018f-43b3-a00f-f867e47a1d80\">\n",
              "    <div class=\"colab-df-container\">\n",
              "      <div>\n",
              "<style scoped>\n",
              "    .dataframe tbody tr th:only-of-type {\n",
              "        vertical-align: middle;\n",
              "    }\n",
              "\n",
              "    .dataframe tbody tr th {\n",
              "        vertical-align: top;\n",
              "    }\n",
              "\n",
              "    .dataframe thead th {\n",
              "        text-align: right;\n",
              "    }\n",
              "</style>\n",
              "<table border=\"1\" class=\"dataframe\">\n",
              "  <thead>\n",
              "    <tr style=\"text-align: right;\">\n",
              "      <th></th>\n",
              "      <th>Subject</th>\n",
              "      <th>Gender</th>\n",
              "      <th>Age</th>\n",
              "      <th>PSQI_BedTime</th>\n",
              "      <th>PMAT24_A_CR</th>\n",
              "      <th>PMAT24_A_SI</th>\n",
              "      <th>PMAT24_A_RTCR</th>\n",
              "      <th>DDisc_SV_1mo_200</th>\n",
              "      <th>DDisc_SV_6mo_200</th>\n",
              "      <th>DDisc_SV_1yr_200</th>\n",
              "      <th>...</th>\n",
              "      <th>DDisc_SV_10yr_200</th>\n",
              "      <th>DDisc_SV_1mo_40K</th>\n",
              "      <th>DDisc_SV_6mo_40K</th>\n",
              "      <th>DDisc_SV_1yr_40K</th>\n",
              "      <th>DDisc_SV_3yr_40K</th>\n",
              "      <th>DDisc_SV_5yr_40K</th>\n",
              "      <th>DDisc_SV_10yr_40K</th>\n",
              "      <th>DDisc_AUC_200</th>\n",
              "      <th>DDisc_AUC_200.1</th>\n",
              "      <th>DDisc_AUC_40K</th>\n",
              "    </tr>\n",
              "  </thead>\n",
              "  <tbody>\n",
              "    <tr>\n",
              "      <th>0</th>\n",
              "      <td>100004</td>\n",
              "      <td>M</td>\n",
              "      <td>22-25</td>\n",
              "      <td>9:00:00</td>\n",
              "      <td>19.0</td>\n",
              "      <td>0.0</td>\n",
              "      <td>15590.0</td>\n",
              "      <td>153.13</td>\n",
              "      <td>46.88</td>\n",
              "      <td>21.88</td>\n",
              "      <td>...</td>\n",
              "      <td>21.88</td>\n",
              "      <td>34375.0</td>\n",
              "      <td>24375.0</td>\n",
              "      <td>625.0</td>\n",
              "      <td>625.0</td>\n",
              "      <td>625.0</td>\n",
              "      <td>625.0</td>\n",
              "      <td>0.121811</td>\n",
              "      <td>0.121811</td>\n",
              "      <td>0.067448</td>\n",
              "    </tr>\n",
              "    <tr>\n",
              "      <th>1</th>\n",
              "      <td>100206</td>\n",
              "      <td>M</td>\n",
              "      <td>26-30</td>\n",
              "      <td>22:30:00</td>\n",
              "      <td>20.0</td>\n",
              "      <td>0.0</td>\n",
              "      <td>18574.5</td>\n",
              "      <td>78.13</td>\n",
              "      <td>34.38</td>\n",
              "      <td>9.38</td>\n",
              "      <td>...</td>\n",
              "      <td>9.38</td>\n",
              "      <td>30625.0</td>\n",
              "      <td>625.0</td>\n",
              "      <td>625.0</td>\n",
              "      <td>3125.0</td>\n",
              "      <td>625.0</td>\n",
              "      <td>625.0</td>\n",
              "      <td>0.097072</td>\n",
              "      <td>0.097072</td>\n",
              "      <td>0.050000</td>\n",
              "    </tr>\n",
              "    <tr>\n",
              "      <th>2</th>\n",
              "      <td>100307</td>\n",
              "      <td>F</td>\n",
              "      <td>26-30</td>\n",
              "      <td>22:00:00</td>\n",
              "      <td>17.0</td>\n",
              "      <td>2.0</td>\n",
              "      <td>11839.0</td>\n",
              "      <td>103.13</td>\n",
              "      <td>46.88</td>\n",
              "      <td>103.13</td>\n",
              "      <td>...</td>\n",
              "      <td>9.38</td>\n",
              "      <td>19375.0</td>\n",
              "      <td>29375.0</td>\n",
              "      <td>24375.0</td>\n",
              "      <td>9375.0</td>\n",
              "      <td>9375.0</td>\n",
              "      <td>9375.0</td>\n",
              "      <td>0.162176</td>\n",
              "      <td>0.162176</td>\n",
              "      <td>0.311459</td>\n",
              "    </tr>\n",
              "    <tr>\n",
              "      <th>3</th>\n",
              "      <td>100408</td>\n",
              "      <td>M</td>\n",
              "      <td>31-35</td>\n",
              "      <td>22:00:00</td>\n",
              "      <td>7.0</td>\n",
              "      <td>12.0</td>\n",
              "      <td>3042.0</td>\n",
              "      <td>153.13</td>\n",
              "      <td>46.88</td>\n",
              "      <td>46.88</td>\n",
              "      <td>...</td>\n",
              "      <td>9.38</td>\n",
              "      <td>39375.0</td>\n",
              "      <td>29375.0</td>\n",
              "      <td>24375.0</td>\n",
              "      <td>19375.0</td>\n",
              "      <td>18125.0</td>\n",
              "      <td>4375.0</td>\n",
              "      <td>0.203061</td>\n",
              "      <td>0.203061</td>\n",
              "      <td>0.421354</td>\n",
              "    </tr>\n",
              "    <tr>\n",
              "      <th>4</th>\n",
              "      <td>100610</td>\n",
              "      <td>M</td>\n",
              "      <td>26-30</td>\n",
              "      <td>21:30:00</td>\n",
              "      <td>23.0</td>\n",
              "      <td>0.0</td>\n",
              "      <td>12280.0</td>\n",
              "      <td>196.88</td>\n",
              "      <td>196.88</td>\n",
              "      <td>184.38</td>\n",
              "      <td>...</td>\n",
              "      <td>146.88</td>\n",
              "      <td>39375.0</td>\n",
              "      <td>39375.0</td>\n",
              "      <td>39375.0</td>\n",
              "      <td>39375.0</td>\n",
              "      <td>36875.0</td>\n",
              "      <td>24375.0</td>\n",
              "      <td>0.801629</td>\n",
              "      <td>0.801629</td>\n",
              "      <td>0.868750</td>\n",
              "    </tr>\n",
              "  </tbody>\n",
              "</table>\n",
              "<p>5 rows × 22 columns</p>\n",
              "</div>\n",
              "      <button class=\"colab-df-convert\" onclick=\"convertToInteractive('df-f5bf1fb9-018f-43b3-a00f-f867e47a1d80')\"\n",
              "              title=\"Convert this dataframe to an interactive table.\"\n",
              "              style=\"display:none;\">\n",
              "        \n",
              "  <svg xmlns=\"http://www.w3.org/2000/svg\" height=\"24px\"viewBox=\"0 0 24 24\"\n",
              "       width=\"24px\">\n",
              "    <path d=\"M0 0h24v24H0V0z\" fill=\"none\"/>\n",
              "    <path d=\"M18.56 5.44l.94 2.06.94-2.06 2.06-.94-2.06-.94-.94-2.06-.94 2.06-2.06.94zm-11 1L8.5 8.5l.94-2.06 2.06-.94-2.06-.94L8.5 2.5l-.94 2.06-2.06.94zm10 10l.94 2.06.94-2.06 2.06-.94-2.06-.94-.94-2.06-.94 2.06-2.06.94z\"/><path d=\"M17.41 7.96l-1.37-1.37c-.4-.4-.92-.59-1.43-.59-.52 0-1.04.2-1.43.59L10.3 9.45l-7.72 7.72c-.78.78-.78 2.05 0 2.83L4 21.41c.39.39.9.59 1.41.59.51 0 1.02-.2 1.41-.59l7.78-7.78 2.81-2.81c.8-.78.8-2.07 0-2.86zM5.41 20L4 18.59l7.72-7.72 1.47 1.35L5.41 20z\"/>\n",
              "  </svg>\n",
              "      </button>\n",
              "      \n",
              "  <style>\n",
              "    .colab-df-container {\n",
              "      display:flex;\n",
              "      flex-wrap:wrap;\n",
              "      gap: 12px;\n",
              "    }\n",
              "\n",
              "    .colab-df-convert {\n",
              "      background-color: #E8F0FE;\n",
              "      border: none;\n",
              "      border-radius: 50%;\n",
              "      cursor: pointer;\n",
              "      display: none;\n",
              "      fill: #1967D2;\n",
              "      height: 32px;\n",
              "      padding: 0 0 0 0;\n",
              "      width: 32px;\n",
              "    }\n",
              "\n",
              "    .colab-df-convert:hover {\n",
              "      background-color: #E2EBFA;\n",
              "      box-shadow: 0px 1px 2px rgba(60, 64, 67, 0.3), 0px 1px 3px 1px rgba(60, 64, 67, 0.15);\n",
              "      fill: #174EA6;\n",
              "    }\n",
              "\n",
              "    [theme=dark] .colab-df-convert {\n",
              "      background-color: #3B4455;\n",
              "      fill: #D2E3FC;\n",
              "    }\n",
              "\n",
              "    [theme=dark] .colab-df-convert:hover {\n",
              "      background-color: #434B5C;\n",
              "      box-shadow: 0px 1px 3px 1px rgba(0, 0, 0, 0.15);\n",
              "      filter: drop-shadow(0px 1px 2px rgba(0, 0, 0, 0.3));\n",
              "      fill: #FFFFFF;\n",
              "    }\n",
              "  </style>\n",
              "\n",
              "      <script>\n",
              "        const buttonEl =\n",
              "          document.querySelector('#df-f5bf1fb9-018f-43b3-a00f-f867e47a1d80 button.colab-df-convert');\n",
              "        buttonEl.style.display =\n",
              "          google.colab.kernel.accessAllowed ? 'block' : 'none';\n",
              "\n",
              "        async function convertToInteractive(key) {\n",
              "          const element = document.querySelector('#df-f5bf1fb9-018f-43b3-a00f-f867e47a1d80');\n",
              "          const dataTable =\n",
              "            await google.colab.kernel.invokeFunction('convertToInteractive',\n",
              "                                                     [key], {});\n",
              "          if (!dataTable) return;\n",
              "\n",
              "          const docLinkHtml = 'Like what you see? Visit the ' +\n",
              "            '<a target=\"_blank\" href=https://colab.research.google.com/notebooks/data_table.ipynb>data table notebook</a>'\n",
              "            + ' to learn more about interactive tables.';\n",
              "          element.innerHTML = '';\n",
              "          dataTable['output_type'] = 'display_data';\n",
              "          await google.colab.output.renderOutput(dataTable, element);\n",
              "          const docLink = document.createElement('div');\n",
              "          docLink.innerHTML = docLinkHtml;\n",
              "          element.appendChild(docLink);\n",
              "        }\n",
              "      </script>\n",
              "    </div>\n",
              "  </div>\n",
              "  "
            ]
          },
          "metadata": {},
          "execution_count": 91
        }
      ],
      "source": [
        "df_cognition = df[cognition]\n",
        "df_cognition.head()"
      ]
    },
    {
      "cell_type": "code",
      "execution_count": 92,
      "metadata": {
        "id": "Crko0pPjV-Tp",
        "colab": {
          "base_uri": "https://localhost:8080/"
        },
        "outputId": "3178a767-c808-4c19-9cbf-6f4ed884d12c"
      },
      "outputs": [
        {
          "output_type": "execute_result",
          "data": {
            "text/plain": [
              "(1206, 22)"
            ]
          },
          "metadata": {},
          "execution_count": 92
        }
      ],
      "source": [
        "df_cognition.shape"
      ]
    },
    {
      "cell_type": "markdown",
      "metadata": {
        "id": "b12RXnhqV-Tp"
      },
      "source": [
        "### 2. Merging two dataframes"
      ]
    },
    {
      "cell_type": "markdown",
      "metadata": {
        "id": "5_rBAqFSV-Tp"
      },
      "source": [
        "So for our dataset of 1206 subjects, we have information about their gender, age-range and a variety of cognitive measures. It would be cool to be able to integrate some other data as well. You have been provided with a separate file that contains brain structure volume data obtained from the neuroimaging data of these same subjects (note that not all subjects in the HCP have neuroimaging data)"
      ]
    },
    {
      "cell_type": "code",
      "execution_count": 93,
      "metadata": {
        "id": "I0WEmj8XV-Tp"
      },
      "outputs": [],
      "source": [
        "df_volumes = pd.read_csv(\"HCP_csv_data/HCP_volumes.csv\")"
      ]
    },
    {
      "cell_type": "markdown",
      "source": [
        "**Question 6:** How many subjects and features does `df_volumes` have?"
      ],
      "metadata": {
        "id": "8tvCBCVslDLu"
      }
    },
    {
      "cell_type": "code",
      "source": [
        "#@title\n",
        "print(f\"Num subjects: {df_volumes.shape[0]}\")\n",
        "print(f\"Num features: {df_volumes.shape[1]}\")"
      ],
      "metadata": {
        "colab": {
          "base_uri": "https://localhost:8080/"
        },
        "cellView": "form",
        "collapsed": true,
        "id": "IGrxEaawlCwp",
        "outputId": "d67f5ac8-00b5-409b-b0f3-02e9595d5e34"
      },
      "execution_count": 94,
      "outputs": [
        {
          "output_type": "stream",
          "name": "stdout",
          "text": [
            "Num subjects: 1086\n",
            "Num features: 14\n"
          ]
        }
      ]
    },
    {
      "cell_type": "markdown",
      "source": [
        "**Question 7:** Print the mean and standard deviation of total brain volume (TBV) of this sample."
      ],
      "metadata": {
        "id": "kAvipapJlXhm"
      }
    },
    {
      "cell_type": "code",
      "execution_count": 95,
      "metadata": {
        "id": "_MU4Tnw5V-Tp",
        "colab": {
          "base_uri": "https://localhost:8080/"
        },
        "outputId": "a89ae146-c831-471d-f37d-6666285ad2bd",
        "cellView": "form",
        "collapsed": true
      },
      "outputs": [
        {
          "output_type": "stream",
          "name": "stdout",
          "text": [
            "Mean TBV: 1406181.3996316758\n",
            "TBV standard deviation: 151214.5002924137\n"
          ]
        }
      ],
      "source": [
        "#@title\n",
        "print(f\"Mean TBV: {df_volumes['TBV'].mean()}\")\n",
        "print(f\"TBV standard deviation: {df_volumes['TBV'].std()}\")"
      ]
    },
    {
      "cell_type": "markdown",
      "metadata": {
        "id": "M59oqzyHV-Tp"
      },
      "source": [
        "**Question 8:** List all the subjects whose TBV is above average."
      ]
    },
    {
      "cell_type": "code",
      "execution_count": 96,
      "metadata": {
        "id": "Sv17Js45V-Tq",
        "colab": {
          "base_uri": "https://localhost:8080/",
          "height": 483
        },
        "outputId": "86f11ecb-3582-48db-c76b-f8306154d586",
        "cellView": "form",
        "collapsed": true
      },
      "outputs": [
        {
          "output_type": "execute_result",
          "data": {
            "text/plain": [
              "      Subject      TBV  Gp_Left  Gp_Right  Str_Left  Str_Right  Thal_Left  \\\n",
              "0      100206  1694580  1746.90   1597.69  11848.20   12030.00    7827.26   \n",
              "2      100408  1563630  1617.93   1531.84  10274.90   10693.40    6865.83   \n",
              "3      100610  1585390  1841.22   1639.88  12464.30   12575.80    7452.36   \n",
              "6      101309  1426200  1690.65   1507.14  10144.90   10251.60    6266.95   \n",
              "7      101410  1588370  1440.26   1328.78   9376.25    9713.07    6865.83   \n",
              "...       ...      ...      ...       ...       ...        ...        ...   \n",
              "1075   987074  1451930  1541.44   1384.69  10053.70   10266.00    6290.62   \n",
              "1079   991267  1802370  1804.52   1681.04  12363.10   12466.30    7433.50   \n",
              "1083   994273  1487180  1646.74   1501.31  11164.60   11670.90    6711.82   \n",
              "1084   995174  1517230  1678.30   1594.26  11154.40   11338.60    6766.36   \n",
              "1085   996782  1555360  1560.65   1477.30  11323.50   11589.60    7095.64   \n",
              "\n",
              "      Thal_Right  str_left_SA  str_right_SA  thal_left_SA  thal_right_SA  \\\n",
              "0        7750.77  15156.32547   16506.40087   7902.211643    8394.220729   \n",
              "2        6842.16  14165.48884   15590.63180   7235.193241    7763.609633   \n",
              "3        7598.48  15493.70123   16940.05756   7594.851693    8316.436428   \n",
              "6        6182.92  13848.22982   15324.77410   6798.623361    7329.928997   \n",
              "7        6683.70  13217.76480   14592.03987   7153.875176    7624.042048   \n",
              "...          ...          ...           ...           ...            ...   \n",
              "1075     6012.10  13970.55221   14972.19121   7221.456229    7054.193554   \n",
              "1079     7367.64  15554.95026   16965.02114   7649.207918    8214.273885   \n",
              "1083     6886.75  14637.99165   16242.63411   7100.454111    7637.944904   \n",
              "1084     6734.46  14516.88893   15906.36860   7263.501869    7809.016115   \n",
              "1085     7137.14  14794.60156   15931.95362   7368.394110    7834.162855   \n",
              "\n",
              "       gp_left_SA  gp_right_SA  \n",
              "0     3603.322526  3751.440646  \n",
              "2     3476.901847  3725.802635  \n",
              "3     3862.828117  3893.266274  \n",
              "6     3582.231784  3677.827998  \n",
              "7     3143.810997  3339.830347  \n",
              "...           ...          ...  \n",
              "1075  3353.157608  3502.805296  \n",
              "1079  3620.911699  3828.376050  \n",
              "1083  3441.358390  3549.415428  \n",
              "1084  3535.013585  3761.052946  \n",
              "1085  3319.287200  3451.372013  \n",
              "\n",
              "[509 rows x 14 columns]"
            ],
            "text/html": [
              "\n",
              "  <div id=\"df-7b030570-0502-4c41-ba39-ec7bb3929d52\">\n",
              "    <div class=\"colab-df-container\">\n",
              "      <div>\n",
              "<style scoped>\n",
              "    .dataframe tbody tr th:only-of-type {\n",
              "        vertical-align: middle;\n",
              "    }\n",
              "\n",
              "    .dataframe tbody tr th {\n",
              "        vertical-align: top;\n",
              "    }\n",
              "\n",
              "    .dataframe thead th {\n",
              "        text-align: right;\n",
              "    }\n",
              "</style>\n",
              "<table border=\"1\" class=\"dataframe\">\n",
              "  <thead>\n",
              "    <tr style=\"text-align: right;\">\n",
              "      <th></th>\n",
              "      <th>Subject</th>\n",
              "      <th>TBV</th>\n",
              "      <th>Gp_Left</th>\n",
              "      <th>Gp_Right</th>\n",
              "      <th>Str_Left</th>\n",
              "      <th>Str_Right</th>\n",
              "      <th>Thal_Left</th>\n",
              "      <th>Thal_Right</th>\n",
              "      <th>str_left_SA</th>\n",
              "      <th>str_right_SA</th>\n",
              "      <th>thal_left_SA</th>\n",
              "      <th>thal_right_SA</th>\n",
              "      <th>gp_left_SA</th>\n",
              "      <th>gp_right_SA</th>\n",
              "    </tr>\n",
              "  </thead>\n",
              "  <tbody>\n",
              "    <tr>\n",
              "      <th>0</th>\n",
              "      <td>100206</td>\n",
              "      <td>1694580</td>\n",
              "      <td>1746.90</td>\n",
              "      <td>1597.69</td>\n",
              "      <td>11848.20</td>\n",
              "      <td>12030.00</td>\n",
              "      <td>7827.26</td>\n",
              "      <td>7750.77</td>\n",
              "      <td>15156.32547</td>\n",
              "      <td>16506.40087</td>\n",
              "      <td>7902.211643</td>\n",
              "      <td>8394.220729</td>\n",
              "      <td>3603.322526</td>\n",
              "      <td>3751.440646</td>\n",
              "    </tr>\n",
              "    <tr>\n",
              "      <th>2</th>\n",
              "      <td>100408</td>\n",
              "      <td>1563630</td>\n",
              "      <td>1617.93</td>\n",
              "      <td>1531.84</td>\n",
              "      <td>10274.90</td>\n",
              "      <td>10693.40</td>\n",
              "      <td>6865.83</td>\n",
              "      <td>6842.16</td>\n",
              "      <td>14165.48884</td>\n",
              "      <td>15590.63180</td>\n",
              "      <td>7235.193241</td>\n",
              "      <td>7763.609633</td>\n",
              "      <td>3476.901847</td>\n",
              "      <td>3725.802635</td>\n",
              "    </tr>\n",
              "    <tr>\n",
              "      <th>3</th>\n",
              "      <td>100610</td>\n",
              "      <td>1585390</td>\n",
              "      <td>1841.22</td>\n",
              "      <td>1639.88</td>\n",
              "      <td>12464.30</td>\n",
              "      <td>12575.80</td>\n",
              "      <td>7452.36</td>\n",
              "      <td>7598.48</td>\n",
              "      <td>15493.70123</td>\n",
              "      <td>16940.05756</td>\n",
              "      <td>7594.851693</td>\n",
              "      <td>8316.436428</td>\n",
              "      <td>3862.828117</td>\n",
              "      <td>3893.266274</td>\n",
              "    </tr>\n",
              "    <tr>\n",
              "      <th>6</th>\n",
              "      <td>101309</td>\n",
              "      <td>1426200</td>\n",
              "      <td>1690.65</td>\n",
              "      <td>1507.14</td>\n",
              "      <td>10144.90</td>\n",
              "      <td>10251.60</td>\n",
              "      <td>6266.95</td>\n",
              "      <td>6182.92</td>\n",
              "      <td>13848.22982</td>\n",
              "      <td>15324.77410</td>\n",
              "      <td>6798.623361</td>\n",
              "      <td>7329.928997</td>\n",
              "      <td>3582.231784</td>\n",
              "      <td>3677.827998</td>\n",
              "    </tr>\n",
              "    <tr>\n",
              "      <th>7</th>\n",
              "      <td>101410</td>\n",
              "      <td>1588370</td>\n",
              "      <td>1440.26</td>\n",
              "      <td>1328.78</td>\n",
              "      <td>9376.25</td>\n",
              "      <td>9713.07</td>\n",
              "      <td>6865.83</td>\n",
              "      <td>6683.70</td>\n",
              "      <td>13217.76480</td>\n",
              "      <td>14592.03987</td>\n",
              "      <td>7153.875176</td>\n",
              "      <td>7624.042048</td>\n",
              "      <td>3143.810997</td>\n",
              "      <td>3339.830347</td>\n",
              "    </tr>\n",
              "    <tr>\n",
              "      <th>...</th>\n",
              "      <td>...</td>\n",
              "      <td>...</td>\n",
              "      <td>...</td>\n",
              "      <td>...</td>\n",
              "      <td>...</td>\n",
              "      <td>...</td>\n",
              "      <td>...</td>\n",
              "      <td>...</td>\n",
              "      <td>...</td>\n",
              "      <td>...</td>\n",
              "      <td>...</td>\n",
              "      <td>...</td>\n",
              "      <td>...</td>\n",
              "      <td>...</td>\n",
              "    </tr>\n",
              "    <tr>\n",
              "      <th>1075</th>\n",
              "      <td>987074</td>\n",
              "      <td>1451930</td>\n",
              "      <td>1541.44</td>\n",
              "      <td>1384.69</td>\n",
              "      <td>10053.70</td>\n",
              "      <td>10266.00</td>\n",
              "      <td>6290.62</td>\n",
              "      <td>6012.10</td>\n",
              "      <td>13970.55221</td>\n",
              "      <td>14972.19121</td>\n",
              "      <td>7221.456229</td>\n",
              "      <td>7054.193554</td>\n",
              "      <td>3353.157608</td>\n",
              "      <td>3502.805296</td>\n",
              "    </tr>\n",
              "    <tr>\n",
              "      <th>1079</th>\n",
              "      <td>991267</td>\n",
              "      <td>1802370</td>\n",
              "      <td>1804.52</td>\n",
              "      <td>1681.04</td>\n",
              "      <td>12363.10</td>\n",
              "      <td>12466.30</td>\n",
              "      <td>7433.50</td>\n",
              "      <td>7367.64</td>\n",
              "      <td>15554.95026</td>\n",
              "      <td>16965.02114</td>\n",
              "      <td>7649.207918</td>\n",
              "      <td>8214.273885</td>\n",
              "      <td>3620.911699</td>\n",
              "      <td>3828.376050</td>\n",
              "    </tr>\n",
              "    <tr>\n",
              "      <th>1083</th>\n",
              "      <td>994273</td>\n",
              "      <td>1487180</td>\n",
              "      <td>1646.74</td>\n",
              "      <td>1501.31</td>\n",
              "      <td>11164.60</td>\n",
              "      <td>11670.90</td>\n",
              "      <td>6711.82</td>\n",
              "      <td>6886.75</td>\n",
              "      <td>14637.99165</td>\n",
              "      <td>16242.63411</td>\n",
              "      <td>7100.454111</td>\n",
              "      <td>7637.944904</td>\n",
              "      <td>3441.358390</td>\n",
              "      <td>3549.415428</td>\n",
              "    </tr>\n",
              "    <tr>\n",
              "      <th>1084</th>\n",
              "      <td>995174</td>\n",
              "      <td>1517230</td>\n",
              "      <td>1678.30</td>\n",
              "      <td>1594.26</td>\n",
              "      <td>11154.40</td>\n",
              "      <td>11338.60</td>\n",
              "      <td>6766.36</td>\n",
              "      <td>6734.46</td>\n",
              "      <td>14516.88893</td>\n",
              "      <td>15906.36860</td>\n",
              "      <td>7263.501869</td>\n",
              "      <td>7809.016115</td>\n",
              "      <td>3535.013585</td>\n",
              "      <td>3761.052946</td>\n",
              "    </tr>\n",
              "    <tr>\n",
              "      <th>1085</th>\n",
              "      <td>996782</td>\n",
              "      <td>1555360</td>\n",
              "      <td>1560.65</td>\n",
              "      <td>1477.30</td>\n",
              "      <td>11323.50</td>\n",
              "      <td>11589.60</td>\n",
              "      <td>7095.64</td>\n",
              "      <td>7137.14</td>\n",
              "      <td>14794.60156</td>\n",
              "      <td>15931.95362</td>\n",
              "      <td>7368.394110</td>\n",
              "      <td>7834.162855</td>\n",
              "      <td>3319.287200</td>\n",
              "      <td>3451.372013</td>\n",
              "    </tr>\n",
              "  </tbody>\n",
              "</table>\n",
              "<p>509 rows × 14 columns</p>\n",
              "</div>\n",
              "      <button class=\"colab-df-convert\" onclick=\"convertToInteractive('df-7b030570-0502-4c41-ba39-ec7bb3929d52')\"\n",
              "              title=\"Convert this dataframe to an interactive table.\"\n",
              "              style=\"display:none;\">\n",
              "        \n",
              "  <svg xmlns=\"http://www.w3.org/2000/svg\" height=\"24px\"viewBox=\"0 0 24 24\"\n",
              "       width=\"24px\">\n",
              "    <path d=\"M0 0h24v24H0V0z\" fill=\"none\"/>\n",
              "    <path d=\"M18.56 5.44l.94 2.06.94-2.06 2.06-.94-2.06-.94-.94-2.06-.94 2.06-2.06.94zm-11 1L8.5 8.5l.94-2.06 2.06-.94-2.06-.94L8.5 2.5l-.94 2.06-2.06.94zm10 10l.94 2.06.94-2.06 2.06-.94-2.06-.94-.94-2.06-.94 2.06-2.06.94z\"/><path d=\"M17.41 7.96l-1.37-1.37c-.4-.4-.92-.59-1.43-.59-.52 0-1.04.2-1.43.59L10.3 9.45l-7.72 7.72c-.78.78-.78 2.05 0 2.83L4 21.41c.39.39.9.59 1.41.59.51 0 1.02-.2 1.41-.59l7.78-7.78 2.81-2.81c.8-.78.8-2.07 0-2.86zM5.41 20L4 18.59l7.72-7.72 1.47 1.35L5.41 20z\"/>\n",
              "  </svg>\n",
              "      </button>\n",
              "      \n",
              "  <style>\n",
              "    .colab-df-container {\n",
              "      display:flex;\n",
              "      flex-wrap:wrap;\n",
              "      gap: 12px;\n",
              "    }\n",
              "\n",
              "    .colab-df-convert {\n",
              "      background-color: #E8F0FE;\n",
              "      border: none;\n",
              "      border-radius: 50%;\n",
              "      cursor: pointer;\n",
              "      display: none;\n",
              "      fill: #1967D2;\n",
              "      height: 32px;\n",
              "      padding: 0 0 0 0;\n",
              "      width: 32px;\n",
              "    }\n",
              "\n",
              "    .colab-df-convert:hover {\n",
              "      background-color: #E2EBFA;\n",
              "      box-shadow: 0px 1px 2px rgba(60, 64, 67, 0.3), 0px 1px 3px 1px rgba(60, 64, 67, 0.15);\n",
              "      fill: #174EA6;\n",
              "    }\n",
              "\n",
              "    [theme=dark] .colab-df-convert {\n",
              "      background-color: #3B4455;\n",
              "      fill: #D2E3FC;\n",
              "    }\n",
              "\n",
              "    [theme=dark] .colab-df-convert:hover {\n",
              "      background-color: #434B5C;\n",
              "      box-shadow: 0px 1px 3px 1px rgba(0, 0, 0, 0.15);\n",
              "      filter: drop-shadow(0px 1px 2px rgba(0, 0, 0, 0.3));\n",
              "      fill: #FFFFFF;\n",
              "    }\n",
              "  </style>\n",
              "\n",
              "      <script>\n",
              "        const buttonEl =\n",
              "          document.querySelector('#df-7b030570-0502-4c41-ba39-ec7bb3929d52 button.colab-df-convert');\n",
              "        buttonEl.style.display =\n",
              "          google.colab.kernel.accessAllowed ? 'block' : 'none';\n",
              "\n",
              "        async function convertToInteractive(key) {\n",
              "          const element = document.querySelector('#df-7b030570-0502-4c41-ba39-ec7bb3929d52');\n",
              "          const dataTable =\n",
              "            await google.colab.kernel.invokeFunction('convertToInteractive',\n",
              "                                                     [key], {});\n",
              "          if (!dataTable) return;\n",
              "\n",
              "          const docLinkHtml = 'Like what you see? Visit the ' +\n",
              "            '<a target=\"_blank\" href=https://colab.research.google.com/notebooks/data_table.ipynb>data table notebook</a>'\n",
              "            + ' to learn more about interactive tables.';\n",
              "          element.innerHTML = '';\n",
              "          dataTable['output_type'] = 'display_data';\n",
              "          await google.colab.output.renderOutput(dataTable, element);\n",
              "          const docLink = document.createElement('div');\n",
              "          docLink.innerHTML = docLinkHtml;\n",
              "          element.appendChild(docLink);\n",
              "        }\n",
              "      </script>\n",
              "    </div>\n",
              "  </div>\n",
              "  "
            ]
          },
          "metadata": {},
          "execution_count": 96
        }
      ],
      "source": [
        "#@title\n",
        "df_volumes[df_volumes['TBV']>df_volumes['TBV'].mean()]"
      ]
    },
    {
      "cell_type": "markdown",
      "metadata": {
        "id": "63BHKuYDV-Tq"
      },
      "source": [
        "Ok! Let's merge our dataframes. One problem is that our behavioral data has 1206 subjects and our volume data has 1086 subjects. \n",
        "\n",
        "**Question 9:** Create a new dataframe where we only keep the subjects for which we have all of our features."
      ]
    },
    {
      "cell_type": "code",
      "execution_count": 97,
      "metadata": {
        "id": "bF-AXKccV-Tq",
        "colab": {
          "base_uri": "https://localhost:8080/",
          "height": 382
        },
        "outputId": "fa9e639c-a16b-4e64-dbc1-ecf3ab43fdb3",
        "collapsed": true,
        "cellView": "form"
      },
      "outputs": [
        {
          "output_type": "execute_result",
          "data": {
            "text/plain": [
              "   Subject Gender    Age PSQI_BedTime  PMAT24_A_CR  PMAT24_A_SI  \\\n",
              "0   100206      M  26-30     22:30:00         20.0          0.0   \n",
              "1   100307      F  26-30     22:00:00         17.0          2.0   \n",
              "2   100408      M  31-35     22:00:00          7.0         12.0   \n",
              "3   100610      M  26-30     21:30:00         23.0          0.0   \n",
              "4   101006      F  31-35     23:00:00         11.0          8.0   \n",
              "\n",
              "   PMAT24_A_RTCR  DDisc_SV_1mo_200  DDisc_SV_6mo_200  DDisc_SV_1yr_200  ...  \\\n",
              "0        18574.5             78.13             34.38              9.38  ...   \n",
              "1        11839.0            103.13             46.88            103.13  ...   \n",
              "2         3042.0            153.13             46.88             46.88  ...   \n",
              "3        12280.0            196.88            196.88            184.38  ...   \n",
              "4         6569.0            140.63             96.88            115.63  ...   \n",
              "\n",
              "   Str_Left  Str_Right  Thal_Left  Thal_Right  str_left_SA  str_right_SA  \\\n",
              "0  11848.20   12030.00    7827.26     7750.77  15156.32547   16506.40087   \n",
              "1   9470.57    9749.09    5743.19     5773.38  12555.09774   13845.51983   \n",
              "2  10274.90   10693.40    6865.83     6842.16  14165.48884   15590.63180   \n",
              "3  12464.30   12575.80    7452.36     7598.48  15493.70123   16940.05756   \n",
              "4   9774.47    9967.58    5856.38     5877.30  13309.15216   14458.50988   \n",
              "\n",
              "   thal_left_SA  thal_right_SA   gp_left_SA  gp_right_SA  \n",
              "0   7902.211643    8394.220729  3603.322526  3751.440646  \n",
              "1   6368.274739    6969.617635  3149.392096  3156.322277  \n",
              "2   7235.193241    7763.609633  3476.901847  3725.802635  \n",
              "3   7594.851693    8316.436428  3862.828117  3893.266274  \n",
              "4   6514.710165    7003.367310  3586.431707  3773.869259  \n",
              "\n",
              "[5 rows x 35 columns]"
            ],
            "text/html": [
              "\n",
              "  <div id=\"df-14370405-7d31-4f79-80fc-3ecd90c5aaed\">\n",
              "    <div class=\"colab-df-container\">\n",
              "      <div>\n",
              "<style scoped>\n",
              "    .dataframe tbody tr th:only-of-type {\n",
              "        vertical-align: middle;\n",
              "    }\n",
              "\n",
              "    .dataframe tbody tr th {\n",
              "        vertical-align: top;\n",
              "    }\n",
              "\n",
              "    .dataframe thead th {\n",
              "        text-align: right;\n",
              "    }\n",
              "</style>\n",
              "<table border=\"1\" class=\"dataframe\">\n",
              "  <thead>\n",
              "    <tr style=\"text-align: right;\">\n",
              "      <th></th>\n",
              "      <th>Subject</th>\n",
              "      <th>Gender</th>\n",
              "      <th>Age</th>\n",
              "      <th>PSQI_BedTime</th>\n",
              "      <th>PMAT24_A_CR</th>\n",
              "      <th>PMAT24_A_SI</th>\n",
              "      <th>PMAT24_A_RTCR</th>\n",
              "      <th>DDisc_SV_1mo_200</th>\n",
              "      <th>DDisc_SV_6mo_200</th>\n",
              "      <th>DDisc_SV_1yr_200</th>\n",
              "      <th>...</th>\n",
              "      <th>Str_Left</th>\n",
              "      <th>Str_Right</th>\n",
              "      <th>Thal_Left</th>\n",
              "      <th>Thal_Right</th>\n",
              "      <th>str_left_SA</th>\n",
              "      <th>str_right_SA</th>\n",
              "      <th>thal_left_SA</th>\n",
              "      <th>thal_right_SA</th>\n",
              "      <th>gp_left_SA</th>\n",
              "      <th>gp_right_SA</th>\n",
              "    </tr>\n",
              "  </thead>\n",
              "  <tbody>\n",
              "    <tr>\n",
              "      <th>0</th>\n",
              "      <td>100206</td>\n",
              "      <td>M</td>\n",
              "      <td>26-30</td>\n",
              "      <td>22:30:00</td>\n",
              "      <td>20.0</td>\n",
              "      <td>0.0</td>\n",
              "      <td>18574.5</td>\n",
              "      <td>78.13</td>\n",
              "      <td>34.38</td>\n",
              "      <td>9.38</td>\n",
              "      <td>...</td>\n",
              "      <td>11848.20</td>\n",
              "      <td>12030.00</td>\n",
              "      <td>7827.26</td>\n",
              "      <td>7750.77</td>\n",
              "      <td>15156.32547</td>\n",
              "      <td>16506.40087</td>\n",
              "      <td>7902.211643</td>\n",
              "      <td>8394.220729</td>\n",
              "      <td>3603.322526</td>\n",
              "      <td>3751.440646</td>\n",
              "    </tr>\n",
              "    <tr>\n",
              "      <th>1</th>\n",
              "      <td>100307</td>\n",
              "      <td>F</td>\n",
              "      <td>26-30</td>\n",
              "      <td>22:00:00</td>\n",
              "      <td>17.0</td>\n",
              "      <td>2.0</td>\n",
              "      <td>11839.0</td>\n",
              "      <td>103.13</td>\n",
              "      <td>46.88</td>\n",
              "      <td>103.13</td>\n",
              "      <td>...</td>\n",
              "      <td>9470.57</td>\n",
              "      <td>9749.09</td>\n",
              "      <td>5743.19</td>\n",
              "      <td>5773.38</td>\n",
              "      <td>12555.09774</td>\n",
              "      <td>13845.51983</td>\n",
              "      <td>6368.274739</td>\n",
              "      <td>6969.617635</td>\n",
              "      <td>3149.392096</td>\n",
              "      <td>3156.322277</td>\n",
              "    </tr>\n",
              "    <tr>\n",
              "      <th>2</th>\n",
              "      <td>100408</td>\n",
              "      <td>M</td>\n",
              "      <td>31-35</td>\n",
              "      <td>22:00:00</td>\n",
              "      <td>7.0</td>\n",
              "      <td>12.0</td>\n",
              "      <td>3042.0</td>\n",
              "      <td>153.13</td>\n",
              "      <td>46.88</td>\n",
              "      <td>46.88</td>\n",
              "      <td>...</td>\n",
              "      <td>10274.90</td>\n",
              "      <td>10693.40</td>\n",
              "      <td>6865.83</td>\n",
              "      <td>6842.16</td>\n",
              "      <td>14165.48884</td>\n",
              "      <td>15590.63180</td>\n",
              "      <td>7235.193241</td>\n",
              "      <td>7763.609633</td>\n",
              "      <td>3476.901847</td>\n",
              "      <td>3725.802635</td>\n",
              "    </tr>\n",
              "    <tr>\n",
              "      <th>3</th>\n",
              "      <td>100610</td>\n",
              "      <td>M</td>\n",
              "      <td>26-30</td>\n",
              "      <td>21:30:00</td>\n",
              "      <td>23.0</td>\n",
              "      <td>0.0</td>\n",
              "      <td>12280.0</td>\n",
              "      <td>196.88</td>\n",
              "      <td>196.88</td>\n",
              "      <td>184.38</td>\n",
              "      <td>...</td>\n",
              "      <td>12464.30</td>\n",
              "      <td>12575.80</td>\n",
              "      <td>7452.36</td>\n",
              "      <td>7598.48</td>\n",
              "      <td>15493.70123</td>\n",
              "      <td>16940.05756</td>\n",
              "      <td>7594.851693</td>\n",
              "      <td>8316.436428</td>\n",
              "      <td>3862.828117</td>\n",
              "      <td>3893.266274</td>\n",
              "    </tr>\n",
              "    <tr>\n",
              "      <th>4</th>\n",
              "      <td>101006</td>\n",
              "      <td>F</td>\n",
              "      <td>31-35</td>\n",
              "      <td>23:00:00</td>\n",
              "      <td>11.0</td>\n",
              "      <td>8.0</td>\n",
              "      <td>6569.0</td>\n",
              "      <td>140.63</td>\n",
              "      <td>96.88</td>\n",
              "      <td>115.63</td>\n",
              "      <td>...</td>\n",
              "      <td>9774.47</td>\n",
              "      <td>9967.58</td>\n",
              "      <td>5856.38</td>\n",
              "      <td>5877.30</td>\n",
              "      <td>13309.15216</td>\n",
              "      <td>14458.50988</td>\n",
              "      <td>6514.710165</td>\n",
              "      <td>7003.367310</td>\n",
              "      <td>3586.431707</td>\n",
              "      <td>3773.869259</td>\n",
              "    </tr>\n",
              "  </tbody>\n",
              "</table>\n",
              "<p>5 rows × 35 columns</p>\n",
              "</div>\n",
              "      <button class=\"colab-df-convert\" onclick=\"convertToInteractive('df-14370405-7d31-4f79-80fc-3ecd90c5aaed')\"\n",
              "              title=\"Convert this dataframe to an interactive table.\"\n",
              "              style=\"display:none;\">\n",
              "        \n",
              "  <svg xmlns=\"http://www.w3.org/2000/svg\" height=\"24px\"viewBox=\"0 0 24 24\"\n",
              "       width=\"24px\">\n",
              "    <path d=\"M0 0h24v24H0V0z\" fill=\"none\"/>\n",
              "    <path d=\"M18.56 5.44l.94 2.06.94-2.06 2.06-.94-2.06-.94-.94-2.06-.94 2.06-2.06.94zm-11 1L8.5 8.5l.94-2.06 2.06-.94-2.06-.94L8.5 2.5l-.94 2.06-2.06.94zm10 10l.94 2.06.94-2.06 2.06-.94-2.06-.94-.94-2.06-.94 2.06-2.06.94z\"/><path d=\"M17.41 7.96l-1.37-1.37c-.4-.4-.92-.59-1.43-.59-.52 0-1.04.2-1.43.59L10.3 9.45l-7.72 7.72c-.78.78-.78 2.05 0 2.83L4 21.41c.39.39.9.59 1.41.59.51 0 1.02-.2 1.41-.59l7.78-7.78 2.81-2.81c.8-.78.8-2.07 0-2.86zM5.41 20L4 18.59l7.72-7.72 1.47 1.35L5.41 20z\"/>\n",
              "  </svg>\n",
              "      </button>\n",
              "      \n",
              "  <style>\n",
              "    .colab-df-container {\n",
              "      display:flex;\n",
              "      flex-wrap:wrap;\n",
              "      gap: 12px;\n",
              "    }\n",
              "\n",
              "    .colab-df-convert {\n",
              "      background-color: #E8F0FE;\n",
              "      border: none;\n",
              "      border-radius: 50%;\n",
              "      cursor: pointer;\n",
              "      display: none;\n",
              "      fill: #1967D2;\n",
              "      height: 32px;\n",
              "      padding: 0 0 0 0;\n",
              "      width: 32px;\n",
              "    }\n",
              "\n",
              "    .colab-df-convert:hover {\n",
              "      background-color: #E2EBFA;\n",
              "      box-shadow: 0px 1px 2px rgba(60, 64, 67, 0.3), 0px 1px 3px 1px rgba(60, 64, 67, 0.15);\n",
              "      fill: #174EA6;\n",
              "    }\n",
              "\n",
              "    [theme=dark] .colab-df-convert {\n",
              "      background-color: #3B4455;\n",
              "      fill: #D2E3FC;\n",
              "    }\n",
              "\n",
              "    [theme=dark] .colab-df-convert:hover {\n",
              "      background-color: #434B5C;\n",
              "      box-shadow: 0px 1px 3px 1px rgba(0, 0, 0, 0.15);\n",
              "      filter: drop-shadow(0px 1px 2px rgba(0, 0, 0, 0.3));\n",
              "      fill: #FFFFFF;\n",
              "    }\n",
              "  </style>\n",
              "\n",
              "      <script>\n",
              "        const buttonEl =\n",
              "          document.querySelector('#df-14370405-7d31-4f79-80fc-3ecd90c5aaed button.colab-df-convert');\n",
              "        buttonEl.style.display =\n",
              "          google.colab.kernel.accessAllowed ? 'block' : 'none';\n",
              "\n",
              "        async function convertToInteractive(key) {\n",
              "          const element = document.querySelector('#df-14370405-7d31-4f79-80fc-3ecd90c5aaed');\n",
              "          const dataTable =\n",
              "            await google.colab.kernel.invokeFunction('convertToInteractive',\n",
              "                                                     [key], {});\n",
              "          if (!dataTable) return;\n",
              "\n",
              "          const docLinkHtml = 'Like what you see? Visit the ' +\n",
              "            '<a target=\"_blank\" href=https://colab.research.google.com/notebooks/data_table.ipynb>data table notebook</a>'\n",
              "            + ' to learn more about interactive tables.';\n",
              "          element.innerHTML = '';\n",
              "          dataTable['output_type'] = 'display_data';\n",
              "          await google.colab.output.renderOutput(dataTable, element);\n",
              "          const docLink = document.createElement('div');\n",
              "          docLink.innerHTML = docLinkHtml;\n",
              "          element.appendChild(docLink);\n",
              "        }\n",
              "      </script>\n",
              "    </div>\n",
              "  </div>\n",
              "  "
            ]
          },
          "metadata": {},
          "execution_count": 97
        }
      ],
      "source": [
        "#@title\n",
        "df_final=pd.merge(df_cognition,df_volumes, on='Subject')\n",
        "df_final.head()"
      ]
    },
    {
      "cell_type": "code",
      "source": [
        "print(df_final.shape)"
      ],
      "metadata": {
        "colab": {
          "base_uri": "https://localhost:8080/"
        },
        "id": "JYLNBLnJmLcJ",
        "outputId": "3541b058-35b6-4b2f-dcfd-b7ed04d6c786"
      },
      "execution_count": 98,
      "outputs": [
        {
          "output_type": "stream",
          "name": "stdout",
          "text": [
            "(1086, 35)\n"
          ]
        }
      ]
    },
    {
      "cell_type": "markdown",
      "metadata": {
        "id": "41UPVZxeV-Tq"
      },
      "source": [
        "Mission accomplished! We have 1086 and 14 + 22 features. "
      ]
    },
    {
      "cell_type": "markdown",
      "metadata": {
        "id": "n_dZ5uqOV-Tq"
      },
      "source": [
        "### 3. Removing features that you do not need"
      ]
    },
    {
      "cell_type": "markdown",
      "source": [
        "**Question 10:** Find and remove any duplicate columns."
      ],
      "metadata": {
        "id": "1UkGHuy8IgBd"
      }
    },
    {
      "cell_type": "code",
      "source": [
        "#@title\n",
        "cols_to_drop=[]\n",
        "for i in range(df_final.shape[1]):\n",
        "    for j in range(i+1,df_final.shape[1]):\n",
        "        col1=df_final.columns[i]\n",
        "        col2=df_final.columns[j]\n",
        "        if (df_final[col1].equals(df_final[col2])):\n",
        "            print(f\"Duplicate columns: {col1, col2}\")\n",
        "            cols_to_drop.append(col2)\n",
        "df_final.drop(cols_to_drop, inplace=True, axis=1)"
      ],
      "metadata": {
        "colab": {
          "base_uri": "https://localhost:8080/"
        },
        "id": "BlCUoH3wJk_V",
        "outputId": "d232a3f6-9584-4e83-aeb6-3314809fd7f9",
        "cellView": "form"
      },
      "execution_count": 99,
      "outputs": [
        {
          "output_type": "stream",
          "name": "stdout",
          "text": [
            "Duplicate columns: ('DDisc_AUC_200', 'DDisc_AUC_200.1')\n"
          ]
        }
      ]
    },
    {
      "cell_type": "markdown",
      "metadata": {
        "id": "kk9oZn8rV-Tr"
      },
      "source": [
        "## 4. Making your data machine-readable"
      ]
    },
    {
      "cell_type": "markdown",
      "metadata": {
        "id": "6p9y9UQmV-Tr"
      },
      "source": [
        "To be machine-readable, your variables need to be numerical. Want to check?"
      ]
    },
    {
      "cell_type": "code",
      "execution_count": 100,
      "metadata": {
        "id": "1rD_Qg7vV-Tr",
        "colab": {
          "base_uri": "https://localhost:8080/"
        },
        "outputId": "e5477599-75bf-46d1-97ea-3a8825dc95a9"
      },
      "outputs": [
        {
          "output_type": "execute_result",
          "data": {
            "text/plain": [
              "Subject                int64\n",
              "Gender                object\n",
              "Age                   object\n",
              "PSQI_BedTime          object\n",
              "PMAT24_A_CR          float64\n",
              "PMAT24_A_SI          float64\n",
              "PMAT24_A_RTCR        float64\n",
              "DDisc_SV_1mo_200     float64\n",
              "DDisc_SV_6mo_200     float64\n",
              "DDisc_SV_1yr_200     float64\n",
              "DDisc_SV_3yr_200     float64\n",
              "DDisc_SV_5yr_200     float64\n",
              "DDisc_SV_10yr_200    float64\n",
              "DDisc_SV_1mo_40K     float64\n",
              "DDisc_SV_6mo_40K     float64\n",
              "DDisc_SV_1yr_40K     float64\n",
              "DDisc_SV_3yr_40K     float64\n",
              "DDisc_SV_5yr_40K     float64\n",
              "DDisc_SV_10yr_40K    float64\n",
              "DDisc_AUC_200        float64\n",
              "DDisc_AUC_40K        float64\n",
              "TBV                    int64\n",
              "Gp_Left              float64\n",
              "Gp_Right             float64\n",
              "Str_Left             float64\n",
              "Str_Right            float64\n",
              "Thal_Left            float64\n",
              "Thal_Right           float64\n",
              "str_left_SA          float64\n",
              "str_right_SA         float64\n",
              "thal_left_SA         float64\n",
              "thal_right_SA        float64\n",
              "gp_left_SA           float64\n",
              "gp_right_SA          float64\n",
              "dtype: object"
            ]
          },
          "metadata": {},
          "execution_count": 100
        }
      ],
      "source": [
        "df_final.dtypes"
      ]
    },
    {
      "cell_type": "markdown",
      "metadata": {
        "id": "pFQsnbWlV-Tr"
      },
      "source": [
        "We have 3 columns that are non-numerical: `Gender`,`Age`,`PSQI_BedTime`. Let's figure out how to handle them, one at a time. First of all, we know that the `Gender` column is categorical:"
      ]
    },
    {
      "cell_type": "code",
      "execution_count": 101,
      "metadata": {
        "id": "ZROVWXKnV-Tr",
        "colab": {
          "base_uri": "https://localhost:8080/"
        },
        "outputId": "fdb466c4-8e65-48c2-afa5-311c418d2b33"
      },
      "outputs": [
        {
          "output_type": "execute_result",
          "data": {
            "text/plain": [
              "F    590\n",
              "M    496\n",
              "Name: Gender, dtype: int64"
            ]
          },
          "metadata": {},
          "execution_count": 101
        }
      ],
      "source": [
        "df_final['Gender'].value_counts()"
      ]
    },
    {
      "cell_type": "markdown",
      "metadata": {
        "id": "BDMZGn-7V-Tr"
      },
      "source": [
        "### One-hot encoding or binarizing your data\n",
        "In this specific dataset, the `Gender` column has one of two values: `M` or `F`. \n",
        "\n",
        "**Question 11:** Given that we only have two categories here, you can just replace all of your `M` values with 1 and `F` values with 2."
      ]
    },
    {
      "cell_type": "code",
      "execution_count": null,
      "metadata": {
        "id": "Oa77oNphV-Tr",
        "cellView": "form"
      },
      "outputs": [],
      "source": [
        "#@title\n",
        "df_final['Gender'] = df_final['Gender'].replace('M',1)\n",
        "df_final['Gender'] = df_final['Gender'].replace('F',2)\n",
        "df_final"
      ]
    },
    {
      "cell_type": "markdown",
      "metadata": {
        "id": "Q22Um_pUV-Tr"
      },
      "source": [
        "**A note on one-hot encoding:** Suppose that you actually had more than 2 numerical values for this feature (e.g. `M`,`F`,`other`). If you just convert categorical variables to numerical values (ex: `M`=1,`F`=2,`other`=3), you give a \"distance\" to the relationship between variables. For instance, since 1 is closer to 2 than to 3, you are telling your machine that `M` is \"closer\" to `F` (`distance = 2 - 1 = 1`) than to `other` (`distance = 3 - 1 = 2`). One-hot encoding is a way to make sure the categories remain independant: \"[A representation of categorical variables as binary vectors](https://machinelearningmastery.com/how-to-one-hot-encode-sequence-data-in-python/)\""
      ]
    },
    {
      "cell_type": "markdown",
      "metadata": {
        "id": "Xuti0j5VV-Ts"
      },
      "source": [
        "### Parsing strings in your data"
      ]
    },
    {
      "cell_type": "markdown",
      "metadata": {
        "id": "0_Fexj30V-Ts"
      },
      "source": [
        "#### Handling the `Age` feature"
      ]
    },
    {
      "cell_type": "markdown",
      "metadata": {
        "id": "PGTxCDCvV-Ts"
      },
      "source": [
        "Recall: our `Age` feature is also non-numerical! Luckily, we have an age range, so the string can be split up into two new columns: min age and max age. Let's replace our age range in `df_final` with an average age estimate for each subject."
      ]
    },
    {
      "cell_type": "code",
      "execution_count": null,
      "metadata": {
        "id": "sMaLuwlPV-Ts"
      },
      "outputs": [],
      "source": [
        "df_final['Age'].value_counts()"
      ]
    },
    {
      "cell_type": "markdown",
      "metadata": {
        "id": "6izSxt7eV-Ts"
      },
      "source": [
        "For the sake of this exercise, let's replace 36+ with a range of 36-40."
      ]
    },
    {
      "cell_type": "code",
      "execution_count": null,
      "metadata": {
        "id": "MWGKnhdcV-Ts"
      },
      "outputs": [],
      "source": [
        "df_final['Age'] = df_final['Age'].replace(\"36+\",'36-40')\n",
        "df_final['Age'].value_counts()\n",
        "fix_age = df_final['Age'].str.split('-', 1, expand=True)\n",
        "fix_age.columns = ['min','max']"
      ]
    },
    {
      "cell_type": "code",
      "execution_count": null,
      "metadata": {
        "id": "Uwor8DLqV-Ts"
      },
      "outputs": [],
      "source": [
        "fix_age = df_final['Age'].str.split('-', 1, expand=True)\n",
        "fix_age.columns = ['min','max']\n",
        "fix_age\n",
        "# fix_age['mean'] = (fix_age['max']+fix_age['min'])/2"
      ]
    },
    {
      "cell_type": "code",
      "execution_count": null,
      "metadata": {
        "id": "qk3zPg-wV-Ts"
      },
      "outputs": [],
      "source": [
        "fix_age[\"min\"] = fix_age['min'].astype(float)\n",
        "fix_age[\"max\"] = fix_age['max'].astype(float)\n",
        "fix_age['mean'] = (fix_age['max']+fix_age['min'])/2\n",
        "fix_age"
      ]
    },
    {
      "cell_type": "code",
      "execution_count": null,
      "metadata": {
        "id": "RR6hjDGmV-Ts"
      },
      "outputs": [],
      "source": [
        "df_final['Age'] = fix_age['mean']\n",
        "df_final"
      ]
    },
    {
      "cell_type": "markdown",
      "metadata": {
        "id": "ks8toV84V-Ts"
      },
      "source": [
        "#### 4.2.2 Handling the `PSQI_BedTime` feature"
      ]
    },
    {
      "cell_type": "markdown",
      "metadata": {
        "id": "Hs_CxE3HV-Ts"
      },
      "source": [
        "Convert your bed time variable from HH:MM:SS to seconds!"
      ]
    },
    {
      "cell_type": "code",
      "execution_count": null,
      "metadata": {
        "scrolled": false,
        "id": "qVqqGL7cV-Tt"
      },
      "outputs": [],
      "source": [
        "df_final['PSQI_BedTime']"
      ]
    },
    {
      "cell_type": "code",
      "execution_count": null,
      "metadata": {
        "scrolled": true,
        "id": "Bnziq-1QV-Tt"
      },
      "outputs": [],
      "source": [
        "ftr = [3600,60,1]\n",
        "for i in range(len(df_final['PSQI_BedTime'])):\n",
        "    x = sum([a*b for a,b in zip(ftr, map(int,df_final['PSQI_BedTime'][i].split(':')))])\n",
        "    df_final['PSQI_BedTime'][i] = x"
      ]
    },
    {
      "cell_type": "code",
      "execution_count": null,
      "metadata": {
        "scrolled": true,
        "id": "-kpfRXYHV-Tt"
      },
      "outputs": [],
      "source": [
        "df_final"
      ]
    },
    {
      "cell_type": "markdown",
      "metadata": {
        "id": "hjuGPr07V-Tt"
      },
      "source": [
        "#### 4.2.3 Other strings that often crop up in dataframes and need to be replaced with numbers!\n",
        "`\n",
        "df_final = df_final.replace('FALSE',0)\n",
        "df_final = df_final.replace('TRUE',1)\n",
        "df_final = df_final.replace(False,0)\n",
        "df_final = df_final.replace(True,1)\n",
        "df_final = df_final.replace('0',0) # example of random spaces\n",
        "df_final = df_final.replace(' ',np.NaN) # example of random spaces\n",
        "`"
      ]
    },
    {
      "cell_type": "markdown",
      "metadata": {
        "id": "mQenax9dV-Tt"
      },
      "source": [
        "#### 4.2.4 Making sure every column is of type float\n",
        "The next line of code will throw an error if you forgot to replace any strings, and it will tell you what those strings are."
      ]
    },
    {
      "cell_type": "code",
      "execution_count": null,
      "metadata": {
        "scrolled": true,
        "id": "qu2IPUdZV-Tt"
      },
      "outputs": [],
      "source": [
        "for col in df_final.columns:\n",
        "    df_final[col] = df_final[col].astype(float)"
      ]
    },
    {
      "cell_type": "code",
      "execution_count": null,
      "metadata": {
        "id": "EPSmJZNBV-Tt"
      },
      "outputs": [],
      "source": [
        "df_final.head()"
      ]
    },
    {
      "cell_type": "markdown",
      "metadata": {
        "id": "FP_h6HlKV-Tt"
      },
      "source": [
        "## 5. Handling not available (NA) and inf data:"
      ]
    },
    {
      "cell_type": "markdown",
      "metadata": {
        "id": "qfiQZysiV-Tt"
      },
      "source": [
        "Sometimes, Python will convert some of your values to + or - infinity, which will result in downstream errors. Convert them to NA, and then handle them as NA values."
      ]
    },
    {
      "cell_type": "code",
      "execution_count": null,
      "metadata": {
        "id": "wXTXFDNVV-Tt"
      },
      "outputs": [],
      "source": [
        "df_final = df_final.replace([np.inf, -np.inf], np.nan)"
      ]
    },
    {
      "cell_type": "markdown",
      "metadata": {
        "id": "QX2xgJzkV-Tt"
      },
      "source": [
        "Next, you need to deal with your NA values. How many nas do you have?"
      ]
    },
    {
      "cell_type": "code",
      "execution_count": null,
      "metadata": {
        "id": "RF_6bB7wV-Tt"
      },
      "outputs": [],
      "source": [
        "df_final.isna().sum()"
      ]
    },
    {
      "cell_type": "markdown",
      "metadata": {
        "id": "YKCftVkdV-Tt"
      },
      "source": [
        "There is a variety of ways to handle `na` data. The most simple approach is to replace `na` data with the median (or mean) value of the feature of interest. There are [other](https://towardsdatascience.com/6-different-ways-to-compensate-for-missing-values-data-imputation-with-examples-6022d9ca0779) [more](https://arxiv.org/abs/1804.11087) sophisticated data imputation techniques out there, many of which actually leverage machine learning tools (so meta)!\n",
        "\n",
        "However, if a feature has too many NAs, you may want to remove it completely. Define a threshold for the minimal number of missing values that qualifies a feature for removal from your dataset. Here, 12 is quite stringent."
      ]
    },
    {
      "cell_type": "code",
      "execution_count": null,
      "metadata": {
        "id": "FagjJLakV-Tt"
      },
      "outputs": [],
      "source": [
        "threshold=12\n",
        "\n",
        "remove_cols = []\n",
        "for i in range(len(df_final.columns)):\n",
        "    if (df_final.iloc[:,i].isnull().sum() >= threshold):\n",
        "        remove_cols.append(df_final.columns[i])\n",
        "df_final = df_final.drop(columns=remove_cols)"
      ]
    },
    {
      "cell_type": "markdown",
      "metadata": {
        "id": "ZzE5f_eUV-Tt"
      },
      "source": [
        "Next, let's replace the NA values we have left with the feature-specific median (the median is more robust against outliers than the mean is)."
      ]
    },
    {
      "cell_type": "code",
      "execution_count": null,
      "metadata": {
        "id": "Lad9NHw9V-Tt"
      },
      "outputs": [],
      "source": [
        "for col in df_final.columns:\n",
        "    df_final[col].fillna(df_final[col].median(), inplace=True)"
      ]
    },
    {
      "cell_type": "code",
      "execution_count": null,
      "metadata": {
        "id": "V9RH8R3LV-Tu"
      },
      "outputs": [],
      "source": [
        "df_final.isna().sum().sum()\n",
        "# note the difference between df_final.isna().sum() and df_final.isna().sum().sum()"
      ]
    },
    {
      "cell_type": "markdown",
      "metadata": {
        "id": "L5io7BaeV-Tu"
      },
      "source": [
        "## 6. Removing columns with a standard deviation of 0:"
      ]
    },
    {
      "cell_type": "code",
      "execution_count": null,
      "metadata": {
        "id": "bXRti6AyV-Tu"
      },
      "outputs": [],
      "source": [
        "df_final.std()"
      ]
    },
    {
      "cell_type": "code",
      "execution_count": null,
      "metadata": {
        "id": "VXCKfAYKV-Tu"
      },
      "outputs": [],
      "source": [
        "df_final = df_final.loc[:, df_final.std() > 0]"
      ]
    },
    {
      "cell_type": "markdown",
      "metadata": {
        "id": "aKkzi1dOV-Tu"
      },
      "source": [
        "## 7. Feature scaling"
      ]
    },
    {
      "cell_type": "markdown",
      "metadata": {
        "id": "oFMck4pIV-Tu"
      },
      "source": [
        "You usually need to perform some sort of feature scaling to make sure that all of your variables are in the same range (this affects gradient-descent-based algorithms and distance-based algorithms==).\n",
        "\n",
        "**Min-Max Scaling / Normalization:** X' = (X-Xmin) / (Xmax-Xmin), X' always ends up with a range of \\[0,1\\] \\\n",
        "**Standardization / Standard Scaler / Z-score):** X' = (X-mu)/sigma\n",
        "\n",
        "Which to use? Depends on your data! [\"Normalization is good to use when you know that the distribution of your data does not follow a Gaussian distribution. Standardization, on the other hand, can be helpful in cases where the data follows a Gaussian distribution.\"](https://www.analyticsvidhya.com/blog/2020/04/feature-scaling-machine-learning-normalization-standardization/). Other [popular scaling techniques](https://www.analyticsvidhya.com/blog/2020/07/types-of-feature-transformation-and-scaling/) include the log transform (you often see this with GWAS, ie genome-wide association studies) and dividing your column-wise values by the absolute value of the maximal value of each column (max abs scaler)."
      ]
    },
    {
      "cell_type": "markdown",
      "metadata": {
        "id": "325Zx0WMV-Tu"
      },
      "source": [
        "Example 1: Min-Max Scaling"
      ]
    },
    {
      "cell_type": "code",
      "execution_count": null,
      "metadata": {
        "id": "lfDpGvV3V-Tu"
      },
      "outputs": [],
      "source": [
        "minMaxScaled_df_final=(df_final-df_final.min())/(df_final.max()-df_final.min())"
      ]
    },
    {
      "cell_type": "markdown",
      "metadata": {
        "id": "Yi98LS0HV-Tu"
      },
      "source": [
        "Example 2: Standard Scaling"
      ]
    },
    {
      "cell_type": "code",
      "execution_count": null,
      "metadata": {
        "id": "kW4OpAgwV-Tu"
      },
      "outputs": [],
      "source": [
        "standardized_df_final=(df_final-df_final.mean())/df_final.std()"
      ]
    },
    {
      "cell_type": "markdown",
      "metadata": {
        "id": "LfAJQ7gxV-Tu"
      },
      "source": [
        "Example 3: Sklearn Min-Max Scaler\\\n",
        "Slightly different from the Min-Max Scaling defined above:\\\n",
        "`\n",
        "X_std = (X - X.min(axis=0)) / (X.max(axis=0) - X.min(axis=0))\n",
        "X_scaled = X_std * (max - min) + min\n",
        "`"
      ]
    },
    {
      "cell_type": "code",
      "execution_count": null,
      "metadata": {
        "id": "-bfODgDRV-Tu"
      },
      "outputs": [],
      "source": [
        "from sklearn.preprocessing import MinMaxScaler\n",
        "mms=MinMaxScaler()\n",
        "mms.fit(df_final)\n",
        "df_final_mms=mms.transform(df_final)"
      ]
    },
    {
      "cell_type": "markdown",
      "metadata": {
        "id": "1qZ-YOcWV-Tu"
      },
      "source": [
        "# 8. Data visualization"
      ]
    },
    {
      "cell_type": "markdown",
      "metadata": {
        "id": "GzQT3zchV-Tu"
      },
      "source": [
        "Data visualization is a wonderful way to get to know your data in order to plan a relevant analysis or find an appropriate machine learning application. [Matplotlib](https://matplotlib.org/) and [seaborn](https://seaborn.pydata.org/) are two canonical data visualizations tools that you can use in Python."
      ]
    },
    {
      "cell_type": "code",
      "execution_count": null,
      "metadata": {
        "id": "_L_6wczKV-Tu"
      },
      "outputs": [],
      "source": [
        "import matplotlib.pyplot as plt\n",
        "import seaborn as sns"
      ]
    },
    {
      "cell_type": "markdown",
      "metadata": {
        "id": "fekJR587V-Tv"
      },
      "source": [
        "#### 9.1 Scatter plot"
      ]
    },
    {
      "cell_type": "code",
      "execution_count": null,
      "metadata": {
        "id": "DOwRnWU2V-Tv"
      },
      "outputs": [],
      "source": [
        "plt.scatter(df_final[\"PSQI_BedTime\"],df_final[\"TBV\"])\n",
        "plt.ylabel(\"Total brain volume (mm3)\")\n",
        "plt.xlabel(\"Bedtime (seconds)\")\n",
        "plt.title(\"Total brain volume as a function of bed time\")"
      ]
    },
    {
      "cell_type": "markdown",
      "metadata": {
        "id": "3Thyjf2QV-Tw"
      },
      "source": [
        "#### 9.2 [Violin plot](https://chartio.com/learn/charts/violin-plot-complete-guide/)"
      ]
    },
    {
      "cell_type": "code",
      "execution_count": null,
      "metadata": {
        "id": "VzOQUrnLV-Tw"
      },
      "outputs": [],
      "source": [
        "plt.violinplot(df_final['PSQI_BedTime'])\n",
        "plt.ylabel(\"Bed time\")\n",
        "plt.title(\"Violin plot of bed times in our sample\")"
      ]
    },
    {
      "cell_type": "markdown",
      "metadata": {
        "id": "EhLbR9ZlV-Tw"
      },
      "source": [
        "#### 9.3 Histogram plot"
      ]
    },
    {
      "cell_type": "code",
      "execution_count": null,
      "metadata": {
        "id": "XwQf03YAV-Tx"
      },
      "outputs": [],
      "source": [
        "sns.displot(df_final,x='TBV',kind='kde',fill=True) # smoothed histogram\n",
        "plt.ylabel(\"Density\")\n",
        "plt.xlabel(\"Total brain volume (mm3)\")\n",
        "plt.title(\"Distribution of total brain volume in our sample\")"
      ]
    },
    {
      "cell_type": "code",
      "execution_count": null,
      "metadata": {
        "id": "oTA7DWybV-Tx"
      },
      "outputs": [],
      "source": [
        "sns.histplot(df_final,x='Str_Left',fill=True,color='orange')\n",
        "sns.histplot(df_final,x='Thal_Left',fill=True,color='turquoise')\n",
        "plt.legend(['Left striatum','Left thalamus'])\n",
        "plt.ylabel(\"Density\")\n",
        "plt.xlabel(\"Structure-specific volume (mm3)\")\n",
        "plt.title(\"Distribution of different structure volumes in our sample\")\n",
        "plt.show()"
      ]
    },
    {
      "cell_type": "markdown",
      "metadata": {
        "id": "cfn3Tm7gV-Tx"
      },
      "source": [
        "# 10. Mini data visualization assignemnt\n",
        "PS: this [list of named colours](https://matplotlib.org/3.5.0/gallery/color/named_colors.html) can help make your graphs nicer :)\n",
        "<ol>\n",
        "<li>Generate a scatter plot of TBV as a function of bed time, by gender.</li>\n",
        "<li>Generate a violin plot of bed times in our sample for subjects over 30 years.</li>\n",
        "<li>Generate two smoothed and superimposed histograms of bed times in subjects that are above and below 30 years.</li>\n",
        "<li>Generate two superimposed histograms of the volume distributions in the left hemisphere (left striatum, thalamus and globus pallidus) and right hemisphere (right striatum, thalamus and globus pallidus)</li>\n",
        "</ol>"
      ]
    },
    {
      "cell_type": "markdown",
      "source": [
        "# Image Visualization\n",
        "Let's visualize the *(either chest X-ray or brain scan if @Nadia gets approval to use them)* of a given person."
      ],
      "metadata": {
        "id": "n2uLV6uiXedo"
      }
    },
    {
      "cell_type": "code",
      "source": [
        "# Get the image as an array\n",
        "from PIL import Image\n",
        "import os\n",
        "\n",
        "png_file_path = os.path.join(\"data_png\", \"chest_xrays_pngs\", \"CHNCXR_0001_0.png\")\n",
        "png_array = np.array(Image.open(png_file_path))"
      ],
      "metadata": {
        "id": "E0QwzsTeXnYS"
      },
      "execution_count": null,
      "outputs": []
    },
    {
      "cell_type": "code",
      "source": [
        "# Write a function that plots a *list* of numpy arrays in grayscale\n",
        "def plot_png_array(png_array_list, title, figsize=(10, 10)):\n",
        "  for png_array in png_array_list:\n",
        "    # Plot the image with imgshow\n",
        "    fg, ax = plt.subplots(figsize=(10, 10))\n",
        "\n",
        "    ax.imshow(png_array, cmap='gray')\n",
        "\n",
        "    ax.set_title(\"Title\")\n",
        "\n",
        "    plt.show()"
      ],
      "metadata": {
        "id": "LIg1gE1EemDs"
      },
      "execution_count": null,
      "outputs": []
    },
    {
      "cell_type": "markdown",
      "source": [
        "Reduce the dimensionality of the image using average pooling with a 3 x 3 kernel."
      ],
      "metadata": {
        "id": "P8c8oQv5h64d"
      }
    },
    {
      "cell_type": "code",
      "source": [
        "# Write a function that reduces the dimensionality of the image\n",
        "def reduce_png_array_dim(png_array, kernel_height=21, kernel_width=30):\n",
        "  cropped_png_array = []\n",
        "  for i in range(0, png_array.shape[0], kernel_height):\n",
        "    cropped_array = []\n",
        "    for j in range(0, png_array.shape[1], kernel_width):\n",
        "      cropped_array.append(png_array[i:i+kernel_height, j:j+kernel_width].mean())\n",
        "    cropped_png_array.append(cropped_array)\n",
        "  return np.array(cropped_png_array)"
      ],
      "metadata": {
        "id": "7CWRrZNfeo-K"
      },
      "execution_count": null,
      "outputs": []
    },
    {
      "cell_type": "code",
      "source": [
        "cropped_png_array = reduce_png_array_dim(png_array)"
      ],
      "metadata": {
        "id": "2WvUSHhsmDfa"
      },
      "execution_count": null,
      "outputs": []
    },
    {
      "cell_type": "code",
      "source": [
        "# Replot the oringal and cropped image\n",
        "plot_png_array([png_array, cropped_png_array], \"Title\")"
      ],
      "metadata": {
        "id": "oJtYcI3ze0RO"
      },
      "execution_count": null,
      "outputs": []
    },
    {
      "cell_type": "code",
      "source": [
        ""
      ],
      "metadata": {
        "id": "E_qjyaE-qZu5"
      },
      "execution_count": null,
      "outputs": []
    }
  ],
  "metadata": {
    "kernelspec": {
      "display_name": "Python 3",
      "language": "python",
      "name": "python3"
    },
    "language_info": {
      "codemirror_mode": {
        "name": "ipython",
        "version": 3
      },
      "file_extension": ".py",
      "mimetype": "text/x-python",
      "name": "python",
      "nbconvert_exporter": "python",
      "pygments_lexer": "ipython3",
      "version": "3.8.8"
    },
    "colab": {
      "name": "3_Assignment.ipynb",
      "provenance": [],
      "collapsed_sections": [
        "0-R_4TaoV-Th",
        "-uMQIjPJV-Tj",
        "jgl2Bg-zV-Tn",
        "b12RXnhqV-Tp",
        "ks8toV84V-Ts",
        "hjuGPr07V-Tt",
        "mQenax9dV-Tt",
        "FP_h6HlKV-Tt",
        "L5io7BaeV-Tu",
        "aKkzi1dOV-Tu",
        "1qZ-YOcWV-Tu",
        "fekJR587V-Tv",
        "3Thyjf2QV-Tw",
        "EhLbR9ZlV-Tw",
        "cfn3Tm7gV-Tx"
      ]
    }
  },
  "nbformat": 4,
  "nbformat_minor": 0
}